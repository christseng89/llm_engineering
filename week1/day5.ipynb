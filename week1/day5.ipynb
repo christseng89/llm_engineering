{
 "cells": [
  {
   "cell_type": "markdown",
   "id": "a98030af-fcd1-4d63-a36e-38ba053498fa",
   "metadata": {},
   "source": [
    "# A full business solution\n",
    "\n",
    "## Now we will take our project from Day 1 to the next level\n",
    "\n",
    "### BUSINESS CHALLENGE:\n",
    "\n",
    "Create a product that builds a Brochure for a company to be used for prospective clients, investors and potential recruits.\n",
    "\n",
    "We will be provided a company name and their primary website.\n",
    "\n",
    "See the end of this notebook for examples of real-world business applications.\n",
    "\n",
    "And remember: I'm always available if you have problems or ideas! Please do reach out.\n",
    "\n",
    "#### NOTES\n",
    "This program is not working with SPA web sites.\n"
   ]
  },
  {
   "cell_type": "code",
   "execution_count": 1,
   "id": "d5b08506-dc8b-4443-9201-5f1848161363",
   "metadata": {},
   "outputs": [],
   "source": [
    "# imports\n",
    "# If these fail, please check you're running from an 'activated' environment with (llms) in the command prompt\n",
    "\n",
    "import os\n",
    "import requests\n",
    "import json\n",
    "from typing import List\n",
    "from dotenv import load_dotenv\n",
    "from bs4 import BeautifulSoup\n",
    "from IPython.display import Markdown, display, update_display\n",
    "from openai import OpenAI"
   ]
  },
  {
   "cell_type": "code",
   "execution_count": 2,
   "id": "fc5d8880-f2ee-4c06-af16-ecbc0262af61",
   "metadata": {},
   "outputs": [
    {
     "name": "stdout",
     "output_type": "stream",
     "text": [
      "API key looks good so far\n"
     ]
    }
   ],
   "source": [
    "# Initialize and constants\n",
    "\n",
    "load_dotenv(override=True)\n",
    "api_key = os.getenv('OPENAI_API_KEY')\n",
    "\n",
    "if api_key and api_key.startswith('sk-proj-') and len(api_key)>10:\n",
    "    print(\"API key looks good so far\")\n",
    "else:\n",
    "    print(\"There might be a problem with your API key? Please visit the troubleshooting notebook!\")\n",
    "    \n",
    "MODEL = 'gpt-4o-mini'\n",
    "openai = OpenAI()"
   ]
  },
  {
   "cell_type": "code",
   "execution_count": 56,
   "id": "106dd65e-90af-4ca8-86b6-23a41840645b",
   "metadata": {},
   "outputs": [],
   "source": [
    "# A class to represent a Webpage\n",
    "\n",
    "# Some websites need you to use proper headers when fetching them:\n",
    "headers = {\n",
    " \"User-Agent\": \"Mozilla/5.0 (Windows NT 10.0; Win64; x64) AppleWebKit/537.36 (KHTML, like Gecko) Chrome/117.0.0.0 Safari/537.36\"\n",
    "}\n",
    "\n",
    "class Website:\n",
    "    \"\"\"\n",
    "    A utility class to represent a Website that we have scraped, now with links\n",
    "    \"\"\"\n",
    "\n",
    "    def __init__(self, url):\n",
    "        self.url = url\n",
    "        response = requests.get(url, headers=headers)\n",
    "        self.body = response.content\n",
    "        soup = BeautifulSoup(self.body, 'html.parser')\n",
    "        self.title = soup.title.string if soup.title else \"No title found\"\n",
    "        if soup.body:\n",
    "            for irrelevant in soup.body([\"script\", \"style\", \"img\", \"input\"]):\n",
    "                irrelevant.decompose()\n",
    "            self.text = soup.body.get_text(separator=\"\\n\", strip=True)\n",
    "        else:\n",
    "            self.text = \"\"\n",
    "        # Get links on page\n",
    "        links = [link.get('href') for link in soup.find_all('a')]\n",
    "        # self.links = [link for link in links if link]\n",
    "        # Bug fix to avoid duplicate link to be returned\n",
    "        self.links = list(dict.fromkeys(link for link in links if link))\n",
    "\n",
    "    def get_contents(self):\n",
    "        return f\"Webpage Title:\\n{self.title}\\nWebpage Contents:\\n{self.text}\\n\\n\""
   ]
  },
  {
   "cell_type": "code",
   "execution_count": 57,
   "id": "e30d8128-933b-44cc-81c8-ab4c9d86589a",
   "metadata": {},
   "outputs": [
    {
     "data": {
      "text/plain": [
       "['https://edwarddonner.com/',\n",
       " 'https://edwarddonner.com/connect-four/',\n",
       " 'https://edwarddonner.com/outsmart/',\n",
       " 'https://edwarddonner.com/about-me-and-about-nebula/',\n",
       " 'https://edwarddonner.com/posts/',\n",
       " 'https://news.ycombinator.com',\n",
       " 'https://nebula.io/?utm_source=ed&utm_medium=referral',\n",
       " 'https://www.prnewswire.com/news-releases/wynden-stark-group-acquires-nyc-venture-backed-tech-startup-untapt-301269512.html',\n",
       " 'https://patents.google.com/patent/US20210049536A1/',\n",
       " 'https://www.linkedin.com/in/eddonner/',\n",
       " 'https://edwarddonner.com/2025/04/21/the-complete-agentic-ai-engineering-course/',\n",
       " 'https://edwarddonner.com/2025/01/23/llm-workshop-hands-on-with-agents-resources/',\n",
       " 'https://edwarddonner.com/2024/12/21/llm-resources-superdatascience/',\n",
       " 'https://edwarddonner.com/2024/11/13/llm-engineering-resources/',\n",
       " 'mailto:hello@mygroovydomain.com',\n",
       " 'https://twitter.com/edwarddonner',\n",
       " 'https://www.facebook.com/edward.donner.52']"
      ]
     },
     "execution_count": 57,
     "metadata": {},
     "output_type": "execute_result"
    }
   ],
   "source": [
    "ed = Website(\"https://edwarddonner.com\")\n",
    "ed.links"
   ]
  },
  {
   "cell_type": "code",
   "execution_count": 60,
   "id": "e73269fb-6016-4a23-bd63-4c22bcb3810e",
   "metadata": {},
   "outputs": [
    {
     "name": "stdout",
     "output_type": "stream",
     "text": [
      "Title: Home - Edward Donner\n",
      "\n",
      "Text: Home\n",
      "Connect Four\n",
      "Outsmart\n",
      "An arena that pits LLMs against each other in a battle of diplomacy and d\n",
      "\n",
      "Content: Webpage Title:\n",
      "Home - Edward Donner\n",
      "Webpage Contents:\n",
      "Home\n",
      "Connect Four\n",
      "Outsmart\n",
      "An arena that pits \n"
     ]
    }
   ],
   "source": [
    "print(f\"Title: {ed.title}\")\n",
    "print(f\"\\nText: {ed.text[:100]}\")\n",
    "print(f\"\\nContent: {ed.get_contents()[:100]}\")"
   ]
  },
  {
   "cell_type": "markdown",
   "id": "1771af9c-717a-4fca-bbbe-8a95893312c3",
   "metadata": {},
   "source": [
    "## First step: Have GPT-4o-mini figure out which 'links' are relevant\n",
    "\n",
    "### Use a call to gpt-4o-mini to read the links on a webpage, and respond in structured JSON.  \n",
    "It should decide which links are relevant, and replace relative links such as \"/about\" with \"https://company.com/about\".  \n",
    "We will use \"one shot prompting\" in which we provide an example of how it should respond in the prompt.\n",
    "\n",
    "This is an excellent use case for an LLM, because it requires nuanced understanding. Imagine trying to code this without LLMs by parsing and analyzing the webpage - it would be very hard!\n",
    "\n",
    "Sidenote: there is a more advanced technique called \"Structured Outputs\" in which we require the model to respond according to a spec. We cover this technique in Week 8 during our autonomous Agentic AI project."
   ]
  },
  {
   "cell_type": "code",
   "execution_count": 61,
   "id": "6957b079-0d96-45f7-a26a-3487510e9b35",
   "metadata": {},
   "outputs": [],
   "source": [
    "link_system_prompt = \"You are provided with a list of links found on a webpage. \\\n",
    "You are able to decide which of the links would be most relevant to include in a brochure about the company, \\\n",
    "such as links to an About page, or a Company page, or Careers/Jobs pages.\\n\"\n",
    "link_system_prompt += \"You should respond in JSON as in this example:\"\n",
    "link_system_prompt += \"\"\"\n",
    "{\n",
    "    \"links\": [\n",
    "        {\"type\": \"about page\", \"url\": \"https://full.url/goes/here/about\"},\n",
    "        {\"type\": \"careers page\": \"url\": \"https://another.full.url/careers\"},\n",
    "    ]\n",
    "}\n",
    "\"\"\""
   ]
  },
  {
   "cell_type": "code",
   "execution_count": 62,
   "id": "b97e4068-97ed-4120-beae-c42105e4d59a",
   "metadata": {},
   "outputs": [
    {
     "name": "stdout",
     "output_type": "stream",
     "text": [
      "You are provided with a list of links found on a webpage. You are able to decide which of the links would be most relevant to include in a brochure about the company, such as links to an About page, or a Company page, or Careers/Jobs pages.\n",
      "You should respond in JSON as in this example:\n",
      "{\n",
      "    \"links\": [\n",
      "        {\"type\": \"about page\", \"url\": \"https://full.url/goes/here/about\"},\n",
      "        {\"type\": \"careers page\": \"url\": \"https://another.full.url/careers\"},\n",
      "    ]\n",
      "}\n",
      "\n"
     ]
    }
   ],
   "source": [
    "print(link_system_prompt)"
   ]
  },
  {
   "cell_type": "code",
   "execution_count": 63,
   "id": "8e1f601b-2eaf-499d-b6b8-c99050c9d6b3",
   "metadata": {},
   "outputs": [],
   "source": [
    "def get_links_user_prompt(website):\n",
    "    user_prompt = f\"Here is the list of links on the website of {website.url} - \"\n",
    "    user_prompt += \"please decide which of these are relevant web links for a brochure about the company, respond with the full https URL in JSON format. \\\n",
    "Do not include Terms of Service, Privacy, email links.\\n\"\n",
    "    user_prompt += \"Links (some might be relative links):\\n\"\n",
    "    user_prompt += \"\\n\".join(website.links)\n",
    "    return user_prompt"
   ]
  },
  {
   "cell_type": "code",
   "execution_count": 64,
   "id": "6bcbfa78-6395-4685-b92c-22d592050fd7",
   "metadata": {},
   "outputs": [
    {
     "name": "stdout",
     "output_type": "stream",
     "text": [
      "Here is the list of links on the website of https://edwarddonner.com - please decide which of these are relevant web links for a brochure about the company, respond with the full https URL in JSON format. Do not include Terms of Service, Privacy, email links.\n",
      "Links (some might be relative links):\n",
      "https://edwarddonner.com/\n",
      "https://edwarddonner.com/connect-four/\n",
      "https://edwarddonner.com/outsmart/\n",
      "https://edwarddonner.com/about-me-and-about-nebula/\n",
      "https://edwarddonner.com/posts/\n",
      "https://news.ycombinator.com\n",
      "https://nebula.io/?utm_source=ed&utm_medium=referral\n",
      "https://www.prnewswire.com/news-releases/wynden-stark-group-acquires-nyc-venture-backed-tech-startup-untapt-301269512.html\n",
      "https://patents.google.com/patent/US20210049536A1/\n",
      "https://www.linkedin.com/in/eddonner/\n",
      "https://edwarddonner.com/2025/04/21/the-complete-agentic-ai-engineering-course/\n",
      "https://edwarddonner.com/2025/01/23/llm-workshop-hands-on-with-agents-resources/\n",
      "https://edwarddonner.com/2024/12/21/llm-resources-superdatascience/\n",
      "https://edwarddonner.com/2024/11/13/llm-engineering-resources/\n",
      "mailto:hello@mygroovydomain.com\n",
      "https://twitter.com/edwarddonner\n",
      "https://www.facebook.com/edward.donner.52\n"
     ]
    }
   ],
   "source": [
    "print(get_links_user_prompt(ed))"
   ]
  },
  {
   "cell_type": "code",
   "execution_count": 65,
   "id": "a29aca19-ca13-471c-a4b4-5abbfa813f69",
   "metadata": {},
   "outputs": [],
   "source": [
    "# Using OpenAI API to get related links\n",
    "def get_links(url):\n",
    "    website = Website(url)\n",
    "    response = openai.chat.completions.create(\n",
    "        model=MODEL,\n",
    "        messages=[\n",
    "            {\"role\": \"system\", \"content\": link_system_prompt},\n",
    "            {\"role\": \"user\", \"content\": get_links_user_prompt(website)}\n",
    "      ],\n",
    "        response_format={\"type\": \"json_object\"}\n",
    "    )\n",
    "    result = response.choices[0].message.content\n",
    "    return json.loads(result)"
   ]
  },
  {
   "cell_type": "code",
   "execution_count": 66,
   "id": "74a827a0-2782-4ae5-b210-4a242a8b4cc2",
   "metadata": {},
   "outputs": [
    {
     "data": {
      "text/plain": [
       "['/',\n",
       " '/models',\n",
       " '/datasets',\n",
       " '/spaces',\n",
       " '/posts',\n",
       " '/docs',\n",
       " '/enterprise',\n",
       " '/pricing',\n",
       " '/login',\n",
       " '/join',\n",
       " 'blog/inference-providers-cohere',\n",
       " '/microsoft/bitnet-b1.58-2B-4T',\n",
       " '/HiDream-ai/HiDream-I1-Full',\n",
       " '/microsoft/MAI-DS-R1',\n",
       " '/Shakker-Labs/FLUX.1-dev-ControlNet-Union-Pro-2.0',\n",
       " '/nari-labs/Dia-1.6B',\n",
       " '/spaces/enzostvs/deepsite',\n",
       " '/spaces/bytedance-research/UNO-FLUX',\n",
       " '/spaces/InstantX/InstantCharacter',\n",
       " '/spaces/jamesliu1217/EasyControl_Ghibli',\n",
       " '/spaces/Yuanshi/OminiControl_Art',\n",
       " '/datasets/zwhe99/DeepMath-103K',\n",
       " '/datasets/openai/mrcr',\n",
       " '/datasets/nvidia/OpenCodeReasoning',\n",
       " '/datasets/Anthropic/values-in-the-wild',\n",
       " '/datasets/openai/graphwalks',\n",
       " '/pricing#endpoints',\n",
       " '/pricing#spaces',\n",
       " '/allenai',\n",
       " '/facebook',\n",
       " '/amazon',\n",
       " '/google',\n",
       " '/Intel',\n",
       " '/microsoft',\n",
       " '/grammarly',\n",
       " '/Writer',\n",
       " '/docs/transformers',\n",
       " '/docs/diffusers',\n",
       " '/docs/safetensors',\n",
       " '/docs/huggingface_hub',\n",
       " '/docs/tokenizers',\n",
       " '/docs/trl',\n",
       " '/docs/transformers.js',\n",
       " '/docs/smolagents',\n",
       " '/docs/peft',\n",
       " '/docs/datasets',\n",
       " '/docs/text-generation-inference',\n",
       " '/docs/accelerate',\n",
       " '/tasks',\n",
       " 'https://ui.endpoints.huggingface.co',\n",
       " '/chat',\n",
       " '/huggingface',\n",
       " '/brand',\n",
       " '/terms-of-service',\n",
       " '/privacy',\n",
       " 'https://apply.workable.com/huggingface/',\n",
       " 'mailto:press@huggingface.co',\n",
       " '/learn',\n",
       " '/blog',\n",
       " 'https://discuss.huggingface.co',\n",
       " 'https://status.huggingface.co/',\n",
       " 'https://github.com/huggingface',\n",
       " 'https://twitter.com/huggingface',\n",
       " 'https://www.linkedin.com/company/huggingface/',\n",
       " '/join/discord']"
      ]
     },
     "execution_count": 66,
     "metadata": {},
     "output_type": "execute_result"
    }
   ],
   "source": [
    "# Anthropic has made their site harder to scrape, so I'm using HuggingFace..\n",
    "\n",
    "huggingface = Website(\"https://huggingface.co\")\n",
    "huggingface.links"
   ]
  },
  {
   "cell_type": "code",
   "execution_count": 67,
   "id": "d3d583e2-dcc4-40cc-9b28-1e8dbf402924",
   "metadata": {},
   "outputs": [
    {
     "data": {
      "text/plain": [
       "{'links': [{'type': 'about page', 'url': 'https://huggingface.co/'},\n",
       "  {'type': 'enterprise page', 'url': 'https://huggingface.co/enterprise'},\n",
       "  {'type': 'pricing page', 'url': 'https://huggingface.co/pricing'},\n",
       "  {'type': 'careers page', 'url': 'https://apply.workable.com/huggingface/'},\n",
       "  {'type': 'blog', 'url': 'https://huggingface.co/blog'},\n",
       "  {'type': 'community page', 'url': 'https://discuss.huggingface.co'},\n",
       "  {'type': 'GitHub page', 'url': 'https://github.com/huggingface'},\n",
       "  {'type': 'Twitter page', 'url': 'https://twitter.com/huggingface'},\n",
       "  {'type': 'LinkedIn page',\n",
       "   'url': 'https://www.linkedin.com/company/huggingface/'}]}"
      ]
     },
     "execution_count": 67,
     "metadata": {},
     "output_type": "execute_result"
    }
   ],
   "source": [
    "get_links(\"https://huggingface.co\")"
   ]
  },
  {
   "cell_type": "markdown",
   "id": "0d74128e-dfb6-47ec-9549-288b621c838c",
   "metadata": {},
   "source": [
    "## Second step: make the brochure!\n",
    "\n",
    "Assemble all the details into another brochure prompt to GPT4-o"
   ]
  },
  {
   "cell_type": "code",
   "execution_count": 81,
   "id": "85a5b6e2-e7ef-44a9-bc7f-59ede71037b5",
   "metadata": {},
   "outputs": [],
   "source": [
    "def get_all_details(url):\n",
    "    result = \"Landing page:\\n\"\n",
    "    result += Website(url).get_contents()\n",
    "    links = get_links(url)\n",
    "    print(\"Found links:\", links)\n",
    "    for link in links[\"links\"]:\n",
    "        result += f\"\\n\\n{link['type']}\\n\"\n",
    "        result += Website(link[\"url\"]).get_contents()\n",
    "    return result"
   ]
  },
  {
   "cell_type": "code",
   "execution_count": 88,
   "id": "5099bd14-076d-4745-baf3-dac08d8e5ab2",
   "metadata": {},
   "outputs": [
    {
     "name": "stdout",
     "output_type": "stream",
     "text": [
      "Found links: {'links': [{'type': 'home page', 'url': 'https://huggingface.co/'}, {'type': 'about page', 'url': 'https://huggingface.co/huggingface'}, {'type': 'careers page', 'url': 'https://apply.workable.com/huggingface/'}, {'type': 'blog page', 'url': 'https://huggingface.co/blog'}, {'type': 'community page', 'url': 'https://discuss.huggingface.co'}, {'type': 'GitHub page', 'url': 'https://github.com/huggingface'}, {'type': 'Twitter page', 'url': 'https://twitter.com/huggingface'}, {'type': 'LinkedIn page', 'url': 'https://www.linkedin.com/company/huggingface/'}]} \n",
      "\n",
      "\n",
      "Get All Details: Landing page:\n",
      "Webpage Title:\n",
      "Hugging Face – The AI community building the future.\n",
      "Webpage Contents:\n",
      "Hugging Face\n",
      "Models\n",
      "Datasets\n",
      "Spaces\n",
      "Posts\n",
      "Docs\n",
      "Enterprise\n",
      "Pricing\n",
      "Log In\n",
      "Sign Up\n",
      "NEW\n",
      "Welcome Cohere on the Hub 🔥\n",
      "Welcome Hyperbolic, Nebius AI Studio, and Novita on the Hub 🔥\n",
      "Welcome Fireworks.ai on the Hub 🎆\n",
      "The AI community building the future.\n",
      "The platform where the machine learning community collaborates on models, datasets, and applications.\n",
      "Explore AI Apps\n",
      "or\n",
      "Browse 1M+ models\n",
      "Trending on\n",
      "th, \n",
      "\n",
      "Length: 40204\n"
     ]
    }
   ],
   "source": [
    "details = get_all_details('https://huggingface.co')\n",
    "print(f\"\\nGet All Details: {details[:500]}, \\n\\nLength: {len(details)}\")"
   ]
  },
  {
   "cell_type": "code",
   "execution_count": 111,
   "id": "9b863a55-f86c-4e3f-8a79-94e24c1a8cf2",
   "metadata": {},
   "outputs": [],
   "source": [
    "system_prompt1 = \"You are an assistant that analyzes the contents of several relevant pages from a company website \\\n",
    "and creates a short brochure about the company for prospective customers, investors and recruits. Respond in markdown.\\\n",
    "Include details of company culture, customers and careers/jobs if you have the information.\"\n",
    "\n",
    "# Or uncomment the lines below for a more humorous brochure - this demonstrates how easy it is to incorporate 'tone':\n",
    "\n",
    "system_prompt2 = \"You are an assistant that analyzes the contents of several relevant pages from a company website \\\n",
    "and creates a short humorous, entertaining, jokey brochure about the company for prospective customers, investors and recruits. Respond in markdown.\\\n",
    "Include details of company culture, customers and careers/jobs if you have the information.\"\n",
    "\n",
    "system_prompt = system_prompt1"
   ]
  },
  {
   "cell_type": "code",
   "execution_count": 89,
   "id": "6ab83d92-d36b-4ce0-8bcc-5bb4c2f8ff23",
   "metadata": {},
   "outputs": [],
   "source": [
    "def get_brochure_user_prompt(company_name, url):\n",
    "    user_prompt = f\"You are looking at a company called: {company_name}\\n\"\n",
    "    user_prompt += f\"Here are the contents of its landing page and other relevant pages; use this information to build a short brochure of the company in markdown.\\n\"\n",
    "    user_prompt += get_all_details(url)\n",
    "    # user_prompt = user_prompt[:20_000] # Truncate if more than 20,000 characters\n",
    "    return user_prompt"
   ]
  },
  {
   "cell_type": "code",
   "execution_count": 91,
   "id": "cd909e0b-1312-4ce2-a553-821e795d7572",
   "metadata": {},
   "outputs": [
    {
     "name": "stdout",
     "output_type": "stream",
     "text": [
      "Found links: {'links': [{'type': 'about page', 'url': 'https://huggingface.co/huggingface'}, {'type': 'careers page', 'url': 'https://apply.workable.com/huggingface/'}, {'type': 'blog', 'url': 'https://huggingface.co/blog'}, {'type': 'company social media', 'url': 'https://twitter.com/huggingface'}, {'type': 'company social media', 'url': 'https://www.linkedin.com/company/huggingface/'}]} \n",
      "\n"
     ]
    },
    {
     "data": {
      "text/plain": [
       "'You are looking at a company called: HuggingFace\\nHere are the contents of its landing page and other relevant pages; use this information to build a short brochure of the company in markdown.\\nLanding page:\\nWebpage Title:\\nHugging Face – The AI community building the future.\\nWebpage Contents:\\nHugging Face\\nModels\\nDatasets\\nSpaces\\nPosts\\nDocs\\nEnterprise\\nPricing\\nLog In\\nSign Up\\nNEW\\nWelcome Cohere on the Hub 🔥\\nWelcome Hyperbolic, Nebius AI Studio, and Novita on the Hub 🔥\\nWelcome Fireworks.ai on the Hub 🎆\\nThe AI community building the future.\\nThe platform where the machine learning community collaborates on models, datasets, and applications.\\nExplore AI Apps\\nor\\nBrowse 1M+ models\\nTrending on\\nthis week\\nModels\\nmicrosoft/bitnet-b1.58-2B-4T\\nUpdated\\n2 days ago\\n•\\n13k\\n•\\n635\\nHiDream-ai/HiDream-I1-Full\\nUpdated\\nabout 5 hours ago\\n•\\n24.3k\\n•\\n672\\nmicrosoft/MAI-DS-R1\\nUpdated\\n5 days ago\\n•\\n284\\n•\\n194\\nShakker-Labs/FLUX.1-dev-ControlNet-Union-Pro-2.0\\nUpdated\\n2 days ago\\n•\\n10.1k\\n•\\n178\\nnari-labs/Dia-1.6B\\nUpdated\\nabout 4 hours ago\\n•\\n169\\nBrowse 1M+ models\\nSpaces\\nRunning\\n4.98k\\n4.98k\\nDeepSite\\n🐳\\nGenerate any application with DeepSeek\\nRunning\\non\\nZero\\n499\\n499\\nUNO FLUX\\n⚡\\nGenerate customized images using text and multiple images\\nRunning\\non\\nZero\\n178\\n178\\nInstantCharacter\\n🐢\\nCustomize characters with prompts and styles\\nRunning\\non\\nZero\\n1.28k\\n1.28k\\nEasyControl Ghibli\\n🦀\\nNew Ghibli EasyControl model is now released!!\\nRunning\\non\\nZero\\n268\\n268\\nOminiControl Art\\n🎨\\nTransform images into artistic styles like Studio Ghibli\\nBrowse 400k+ applications\\nDatasets\\nzwhe99/DeepMath-103K\\nUpdated\\n4 days ago\\n•\\n6.07k\\n•\\n126\\nopenai/mrcr\\nUpdated\\n8 days ago\\n•\\n2.24k\\n•\\n118\\nnvidia/OpenCodeReasoning\\nUpdated\\n7 days ago\\n•\\n10.7k\\n•\\n267\\nAnthropic/values-in-the-wild\\nUpdated\\n1 day ago\\n•\\n2\\n•\\n54\\nopenai/graphwalks\\nUpdated\\n8 days ago\\n•\\n993\\n•\\n61\\nBrowse 250k+ datasets\\nThe Home of Machine Learning\\nCreate, discover and collaborate on ML better.\\nThe collaboration platform\\nHost and collaborate on unlimited public models, datasets and applications.\\nMove faster\\nWith the HF Open source stack.\\nExplore all modalities\\nText, image, video, audio or even 3D.\\nBuild your portfolio\\nShare your work with the world and build your ML profile.\\nSign Up\\nAccelerate your ML\\nWe provide paid Compute and Enterprise solutions.\\nCompute\\nDeploy on optimized\\nInference Endpoints\\nor update your\\nSpaces applications\\nto a GPU in a few clicks.\\nView pricing\\nStarting at $0.60/hour for GPU\\nEnterprise\\nGive your team the most advanced platform to build AI with enterprise-grade security, access controls and\\n\\t\\t\\tdedicated support.\\nGetting started\\nStarting at $20/user/month\\nSingle Sign-On\\nRegions\\nPriority Support\\nAudit Logs\\nResource Groups\\nPrivate Datasets Viewer\\nMore than 50,000 organizations are using Hugging Face\\nAi2\\nEnterprise\\nnon-profit\\n•\\n751 models\\n•\\n3.11k followers\\nAI at Meta\\nEnterprise\\ncompany\\n•\\n2.09k models\\n•\\n5.63k followers\\nAmazon\\ncompany\\n•\\n20 models\\n•\\n3.03k followers\\nGoogle\\ncompany\\n•\\n990 models\\n•\\n12.1k followers\\nIntel\\ncompany\\n•\\n219 models\\n•\\n2.45k followers\\nMicrosoft\\ncompany\\n•\\n372 models\\n•\\n11.5k followers\\nGrammarly\\nEnterprise\\ncompany\\n•\\n10 models\\n•\\n153 followers\\nWriter\\nEnterprise\\ncompany\\n•\\n21 models\\n•\\n261 followers\\nOur Open Source\\nWe are building the foundation of ML tooling with the community.\\nTransformers\\n143,302\\nState-of-the-art ML for PyTorch, TensorFlow, JAX\\nDiffusers\\n28,678\\nState-of-the-art Diffusion models in PyTorch\\nSafetensors\\n3,233\\nSafe way to store/distribute neural network weights\\nHub Python Library\\n2,527\\nPython client to interact with the Hugging Face Hub\\nTokenizers\\n9,612\\nFast tokenizers optimized for research & production\\nTRL\\n13,344\\nTrain transformers LMs with reinforcement learning\\nTransformers.js\\n13,470\\nState-of-the-art ML running directly in your browser\\nsmolagents\\n17,340\\nSmol library to build great agents in Python\\nPEFT\\n18,170\\nParameter-efficient finetuning for large language models\\nDatasets\\n20,005\\nAccess & share datasets for any ML tasks\\nText Generation Inference\\n10,039\\nServe language models with TGI optimized toolkit\\nAccelerate\\n8,636\\nTrain PyTorch models with multi-GPU, TPU, mixed precision\\nSystem theme\\nWebsite\\nModels\\nDatasets\\nSpaces\\nTasks\\nInference Endpoints\\nHuggingChat\\nCompany\\nAbout\\nBrand assets\\nTerms of service\\nPrivacy\\nJobs\\nPress\\nResources\\nLearn\\nDocumentation\\nBlog\\nForum\\nService Status\\nSocial\\nGitHub\\nTwitter\\nLinkedIn\\nDiscord\\n\\n\\n\\nabout page\\nWebpage Title:\\nhuggingface (Hugging Face)\\nWebpage Contents:\\nHugging Face\\nModels\\nDatasets\\nSpaces\\nPosts\\nDocs\\nEnterprise\\nPricing\\nLog In\\nSign Up\\nHugging Face\\nEnterprise\\ncompany\\nVerified\\nhttps://huggingface.co\\nhuggingface\\nhuggingface\\nActivity Feed\\nFollow\\n32,993\\nAI & ML interests\\nThe AI community building the future.\\nRecent Activity\\nmishig\\nupdated\\na Space\\nabout 16 hours ago\\nhuggingface/inference-playground\\nClementRomac\\nauthored\\na paper\\n14 days ago\\nMeta Automatic Curriculum Learning\\nClementRomac\\nauthored\\na paper\\n14 days ago\\nSAC-GLAM: Improving Online RL for LLM agents with Soft Actor-Critic and\\n  Hindsight Relabeling\\nView all activity\\nArticles\\nYay! Organizations can now publish blog Artic'"
      ]
     },
     "execution_count": 91,
     "metadata": {},
     "output_type": "execute_result"
    }
   ],
   "source": [
    "get_brochure_user_prompt(\"HuggingFace\", \"https://huggingface.co\")[:5000]"
   ]
  },
  {
   "cell_type": "code",
   "execution_count": 92,
   "id": "e44de579-4a1a-4e6a-a510-20ea3e4b8d46",
   "metadata": {},
   "outputs": [],
   "source": [
    "def create_brochure(company_name, url):\n",
    "    response = openai.chat.completions.create(\n",
    "        model=MODEL,\n",
    "        messages=[\n",
    "            {\"role\": \"system\", \"content\": system_prompt},\n",
    "            {\"role\": \"user\", \"content\": get_brochure_user_prompt(company_name, url)}\n",
    "          ],\n",
    "    )\n",
    "    result = response.choices[0].message.content\n",
    "    display(Markdown(result))"
   ]
  },
  {
   "cell_type": "code",
   "execution_count": 97,
   "id": "93431dee-f33e-4721-8c00-d1b2947f1c83",
   "metadata": {},
   "outputs": [
    {
     "name": "stdout",
     "output_type": "stream",
     "text": [
      "Found links: {'links': [{'type': 'about page', 'url': 'https://www.anthropic.com/about'}, {'type': 'careers page', 'url': 'https://www.anthropic.com/careers'}, {'type': 'company page', 'url': 'https://www.anthropic.com/company'}]} \n",
      "\n"
     ]
    },
    {
     "data": {
      "text/markdown": [
       "# Anthropic Company Brochure\n",
       "\n",
       "## Company Overview\n",
       "Anthropic is a leading research and development company focused on artificial intelligence (AI) and ensuring its safe and beneficial deployment. Our mission is to build AI systems that are aligned with human values, promoting understanding and reliable collaboration between humans and machines.\n",
       "\n",
       "## Company Culture\n",
       "At Anthropic, we believe in a collaborative and inclusive work environment where innovation thrives. Our team is made up of diverse talents who are passionate about AI safety and ethics. We encourage open communication, strive for continuous learning, and prioritize well-being, allowing our employees to work creatively and effectively.\n",
       "\n",
       "- **Collaboration:** We value teamwork and are committed to working together to achieve our goals.\n",
       "- **Diversity & Inclusion:** We celebrate the diverse backgrounds, perspectives, and experiences of our team members.\n",
       "- **Continuous Learning:** We support personal and professional growth through opportunities for training and development.\n",
       "\n",
       "## Customers\n",
       "Anthropic serves a variety of clients across sectors that utilize AI. Our clientele includes tech companies, research institutions, and organizations focusing on responsible AI applications. We aim to create tools and research outputs that help our clients navigate the complexities of AI deployment, always with an emphasis on ethical considerations.\n",
       "\n",
       "## Careers at Anthropic\n",
       "Are you passionate about AI and its ethical implications? Join us at Anthropic to work on cutting-edge technologies that shape the future. We are always looking for skilled individuals across various domains including:\n",
       "\n",
       "- **Research Scientists**\n",
       "- **Software Engineers**\n",
       "- **Policy Experts**\n",
       "- **Data Analysts**\n",
       "\n",
       "Explore the opportunity to make an impact in AI safety and join a team that cares about the future.\n",
       "\n",
       "For more information and to view our job openings, please stay tuned to our careers page.\n",
       "\n",
       "---\n",
       "\n",
       "**Connect with Us!**\n",
       "Follow us on social media and stay updated on our latest research, initiatives, and job opportunities.\n",
       "\n",
       "---\n",
       "\n",
       "*Note: This brochure is based on the limited information available, as the website pages did not contain detailed content. For comprehensive details, please visit Anthropic's official website once it is fully accessible.*"
      ],
      "text/plain": [
       "<IPython.core.display.Markdown object>"
      ]
     },
     "metadata": {},
     "output_type": "display_data"
    }
   ],
   "source": [
    "create_brochure(\"Anthropic\", \"https://www.anthropic.com/\")"
   ]
  },
  {
   "cell_type": "code",
   "execution_count": 99,
   "id": "53f1d19c-ded7-4f24-ae20-43a2582aa73b",
   "metadata": {},
   "outputs": [
    {
     "name": "stdout",
     "output_type": "stream",
     "text": [
      "Found links: {'links': [{'type': 'about page', 'url': 'https://www.chinasystems.com/about'}, {'type': 'careers page', 'url': 'https://www.chinasystems.com/careers'}, {'type': 'company page', 'url': 'https://www.chinasystems.com/company'}, {'type': 'services page', 'url': 'https://www.chinasystems.com/services'}, {'type': 'contact page', 'url': 'https://www.chinasystems.com/contact'}]} \n",
      "\n"
     ]
    },
    {
     "data": {
      "text/markdown": [
       "# China Systems Brochure\n",
       "\n",
       "## Welcome to China Systems\n",
       "\n",
       "### Your Partner in Trade Finance Solutions\n",
       "\n",
       "At **China Systems**, we pride ourselves on being the leading provider of innovative trade finance solutions tailored to meet the needs of our diverse clientele. Our commitment to excellence and customer satisfaction sets us apart in the industry.\n",
       "\n",
       "---\n",
       "\n",
       "## About Us\n",
       "\n",
       "China Systems is dedicated to **transforming trade finance** through technology and expertise. We specialize in providing comprehensive solutions that streamline processes, mitigate risks, and enhance efficiency. Our team is comprised of seasoned professionals who understand the complexities of trade finance and are passionate about driving your business forward.\n",
       "\n",
       "---\n",
       "\n",
       "## Our Customers\n",
       "\n",
       "We serve a wide range of clients, from small enterprises to large multinational corporations. Our solutions are designed to support various industries, ensuring that our customers can navigate the global trading landscape with confidence. We focus on empowering our clients by providing them with the tools and insights they need to succeed in today’s competitive market.\n",
       "\n",
       "---\n",
       "\n",
       "## Company Culture\n",
       "\n",
       "At China Systems, our culture is rooted in **innovation, collaboration, and integrity**. We foster an environment where every employee is encouraged to contribute ideas, share knowledge, and grow professionally. Our commitment to teamwork ensures that we can deliver the highest quality service to our clients. Employees at China Systems enjoy a supportive workplace that values diversity and inclusion, making it a great place to build a career.\n",
       "\n",
       "---\n",
       "\n",
       "## Careers at China Systems\n",
       "\n",
       "Join our dynamic team of professionals! At China Systems, we are always on the lookout for talented individuals who are passionate about trade finance and technology. Whether you are just starting your career or looking for new opportunities, we offer a range of positions that cater to various skill sets and experiences. We invest in our employees through training and development, ensuring that everyone has the tools they need to thrive.\n",
       "\n",
       "---\n",
       "\n",
       "## Get in Touch\n",
       "\n",
       "We would love to hear from you! Whether you have questions about our services, want to learn more about career opportunities, or need assistance with trade finance solutions, our team is here to help. \n",
       "\n",
       "Visit our [contact page](#) or reach out directly to discuss how we can support your business needs.\n",
       "\n",
       "---\n",
       "\n",
       "### China Systems - Empowering Global Trade Through Innovative Solutions\n",
       "\n",
       "For more information and to explore our services, please visit our website at [China Systems](#).\n",
       "\n",
       "--- \n",
       "\n",
       "*This brochure is designed to provide a quick overview of our company. For detailed insights, please refer to our website or contact us directly.*"
      ],
      "text/plain": [
       "<IPython.core.display.Markdown object>"
      ]
     },
     "metadata": {},
     "output_type": "display_data"
    }
   ],
   "source": [
    "create_brochure(\"China Systems\", \"https://www.chinasystems.com\")"
   ]
  },
  {
   "cell_type": "code",
   "execution_count": 93,
   "id": "e093444a-9407-42ae-924a-145730591a39",
   "metadata": {},
   "outputs": [
    {
     "name": "stdout",
     "output_type": "stream",
     "text": [
      "Found links: {'links': [{'type': 'about page', 'url': 'https://huggingface.co/'}, {'type': 'careers page', 'url': 'https://apply.workable.com/huggingface/'}, {'type': 'blog', 'url': 'https://huggingface.co/blog'}, {'type': 'company page', 'url': 'https://huggingface.co/huggingface'}, {'type': 'community page', 'url': 'https://discuss.huggingface.co'}, {'type': 'Twitter', 'url': 'https://twitter.com/huggingface'}, {'type': 'LinkedIn', 'url': 'https://www.linkedin.com/company/huggingface/'}]} \n",
      "\n"
     ]
    },
    {
     "data": {
      "text/markdown": [
       "# Hugging Face Brochure\n",
       "\n",
       "![Hugging Face Logo](https://huggingface.co/assets/logo.svg)\n",
       "\n",
       "## Company Overview\n",
       "**Hugging Face** is at the forefront of the artificial intelligence community, building the future by democratizing machine learning (ML) and natural language processing (NLP). Founded in 2016, our mission is to create a collaborative space for researchers, developers, and organizations to engage with advanced ML technologies, fostering an open-source ecosystem that supports innovation and knowledge sharing.\n",
       "\n",
       "## Our Offerings\n",
       "### Collaborate and Innovate\n",
       "- **Models**: Access a diversified selection of over **1 million models** developed by both the community and leading tech companies, including Microsoft, Google, and Amazon.\n",
       "- **Datasets**: Utilize our extensive library of **250,000+ datasets** suitable for varied machine learning tasks.\n",
       "- **Spaces**: Experiment with **400,000 applications** running real-time demos across text, image, and audio challenges.\n",
       "\n",
       "### Enterprise Solutions\n",
       "We provide robust enterprise solutions with:\n",
       "- **Security Features**: Tailored access controls, single sign-on, and audit logs.\n",
       "- **Compute Services**: Enable deployment on optimized inference endpoints, starting at just $0.60/hour.\n",
       "\n",
       "More than **50,000 organizations** trust Hugging Face to accelerate their AI project deployments.\n",
       "\n",
       "## Community and Culture\n",
       "### A Culture of Collaboration\n",
       "At Hugging Face, we embody a community-driven approach. Our platform fosters:\n",
       "- **Open-Source Contributions**: Thousands of contributors improve the Hugging Face ecosystem daily.\n",
       "- **Knowledge Sharing**: Engage with our community through forums, blogs, and online discussions on cutting-edge topics in AI, including reinforcement learning and optimizing AI models.\n",
       "\n",
       "### Support and Inclusivity\n",
       "We cultivate an inclusive workplace culture, where diverse perspectives are valued. Our team of **214 employees** are passionate about building accessible AI tools that enable everyone to participate in the AI revolution.\n",
       "\n",
       "## Career Opportunities\n",
       "Join us in our mission to democratize AI! We are on the lookout for passionate individuals across various roles, including:\n",
       "- Software Engineering\n",
       "- Machine Learning Engineering\n",
       "- Product Management\n",
       "- Research Roles\n",
       "\n",
       "### Why Work at Hugging Face?\n",
       "- **Innovative Environment**: Collaborate with leading experts and trailblazers in AI and ML.\n",
       "- **Professional Growth**: Dive into a learning culture where you can grow and thrive.\n",
       "- **Purpose-Driven**: Work on meaningful projects that shape the future of technology.\n",
       "\n",
       "For current job openings, please visit our [Careers Page](https://huggingface.co/jobs).\n",
       "\n",
       "## Connect with Us\n",
       "Explore the Hugging Face community and collaborate today! \n",
       "- [Official Website](https://huggingface.co)\n",
       "- [LinkedIn](https://www.linkedin.com/company/hugging-face)\n",
       "- [Twitter](https://twitter.com/huggingface)\n",
       "\n",
       "Together, we're building the future of AI! Join us in making machine learning accessible and beneficial for all."
      ],
      "text/plain": [
       "<IPython.core.display.Markdown object>"
      ]
     },
     "metadata": {},
     "output_type": "display_data"
    }
   ],
   "source": [
    "create_brochure(\"HuggingFace\", \"https://huggingface.co\")"
   ]
  },
  {
   "cell_type": "markdown",
   "id": "61eaaab7-0b47-4b29-82d4-75d474ad8d18",
   "metadata": {},
   "source": [
    "## Finally - a minor improvement\n",
    "\n",
    "With a small adjustment, we can change this so that the results stream back from OpenAI,\n",
    "with the familiar typewriter animation\n",
    "\n",
    "✅ With stream=True:\n",
    "- Response is streamed incrementally as soon as the model starts generating output.\n",
    "- You receive small chunks of the response (called deltas) in real-time, and you can start processing or displaying them immediately.\n",
    "- Best for interactive or progressive rendering use cases (like chat UIs or Markdown previews).\n",
    "- More responsive for long outputs."
   ]
  },
  {
   "cell_type": "code",
   "execution_count": 105,
   "id": "51db0e49-f261-4137-aabe-92dd601f7725",
   "metadata": {},
   "outputs": [],
   "source": [
    "def stream_brochure(company_name, url):\n",
    "    stream = openai.chat.completions.create(\n",
    "        model=MODEL,\n",
    "        messages=[\n",
    "            {\"role\": \"system\", \"content\": system_prompt},\n",
    "            {\"role\": \"user\", \"content\": get_brochure_user_prompt(company_name, url)}\n",
    "          ],\n",
    "        # Enhancement using Stream\n",
    "        stream=True\n",
    "    )\n",
    "    \n",
    "    response = \"\"\n",
    "    display_handle = display(Markdown(\"\"), display_id=True)\n",
    "    # print(f\"\\nDisplay Id: {display_handle.display_id}\") # An unique Id\n",
    "    \n",
    "    for chunk in stream:\n",
    "        response += chunk.choices[0].delta.content or ''\n",
    "        response = response.replace(\"```\",\"\").replace(\"markdown\", \"\")\n",
    "        \n",
    "        # 更新顯示內容\n",
    "        update_display(Markdown(response), display_id=display_handle.display_id)"
   ]
  },
  {
   "cell_type": "code",
   "execution_count": 107,
   "id": "537a87ad-8d2e-45a7-b38e-2fd5264da05c",
   "metadata": {},
   "outputs": [
    {
     "name": "stdout",
     "output_type": "stream",
     "text": [
      "Found links: {'links': [{'type': 'about page', 'url': 'https://www.chinasystems.com/about'}, {'type': 'careers page', 'url': 'https://www.chinasystems.com/careers'}, {'type': 'company page', 'url': 'https://www.chinasystems.com/company'}, {'type': 'services page', 'url': 'https://www.chinasystems.com/services'}]} \n",
      "\n"
     ]
    },
    {
     "data": {
      "text/markdown": [
       "# China Systems Brochure\n",
       "\n",
       "## Welcome to China Systems\n",
       "**Best Trade Finance Solutions Provider**\n",
       "\n",
       "---\n",
       "\n",
       "### About Us\n",
       "At **China Systems**, we specialize in delivering top-notch trade finance solutions tailored to meet the unique needs of our clients. With a commitment to innovation and excellence, we pride ourselves on providing robust services that enhance the efficiency and effectiveness of international trade.\n",
       "\n",
       "### Our Customers\n",
       "We serve a diverse range of clients in the global trade sector, including multinational corporations, banks, and financial institutions. Our focus on customer satisfaction and success has made us a trusted partner in navigating the complexities of trade finance.\n",
       "\n",
       "### Why Choose Us?\n",
       "- **Expertise:** Our team comprises industry-leading professionals with deep expertise in trade finance and cutting-edge technology.\n",
       "- **Innovation:** We continuously invest in research and development to offer innovative solutions that keep our clients ahead of the curve.\n",
       "- **Customization:** We recognize that every business is unique, which is why we provide tailor-made solutions aligned with our clients’ specific requirements.\n",
       "\n",
       "---\n",
       "\n",
       "### Company Culture\n",
       "At China Systems, our company culture is rooted in collaboration, integrity, and a commitment to excellence. We believe in fostering a supportive and inclusive environment where every employee can thrive and contribute to our collective success. \n",
       "\n",
       "- **Teamwork:** We encourage collaboration across departments to harness diverse perspectives and expertise.\n",
       "- **Growth:** We prioritize professional development and provide our employees with opportunities to advance their careers within the organization.\n",
       "- **Diversity:** We celebrate multiculturalism and embrace the variety of backgrounds and experiences that our team brings.\n",
       "\n",
       "---\n",
       "\n",
       "### Careers at China Systems\n",
       "Join our dynamic workforce and be part of a company that values talent and initiative. We offer a range of career opportunities in areas such as:\n",
       "- Trade Finance Solutions\n",
       "- Product Development\n",
       "- Marketing\n",
       "- Customer Support\n",
       "\n",
       "**Why Work With Us?**\n",
       "- Competitive salaries and comprehensive benefits\n",
       "- Professional development programs to enhance your skills\n",
       "- A culture that supports work-life balance and personal growth\n",
       "\n",
       "---\n",
       "\n",
       "### Get in Touch\n",
       "Discover how China Systems can transform your trade finance operations.  \n",
       "**Visit our website or contact us to learn more about our services and career opportunities!**\n",
       "\n",
       "**Website:** [www.chinasystems.com](http://www.chinasystems.com)  \n",
       "**Email:** info@chinasystems.com  \n",
       "**Phone:** +86 123 456 7890  \n",
       "\n",
       "---\n",
       "\n",
       "**Together, let's enable seamless global trade!**"
      ],
      "text/plain": [
       "<IPython.core.display.Markdown object>"
      ]
     },
     "metadata": {},
     "output_type": "display_data"
    },
    {
     "name": "stdout",
     "output_type": "stream",
     "text": [
      "\n",
      "Display Id: a2e9d644afc18df1e5aa6df4bc16445a\n"
     ]
    }
   ],
   "source": [
    "stream_brochure(\"China Systems\", \"https://www.chinasystems.com\")"
   ]
  },
  {
   "cell_type": "code",
   "execution_count": 106,
   "id": "56bf0ae3-ee9d-4a72-9cd6-edcac67ceb6d",
   "metadata": {},
   "outputs": [
    {
     "name": "stdout",
     "output_type": "stream",
     "text": [
      "Found links: {'links': [{'type': 'about page', 'url': 'https://huggingface.co/huggingface'}, {'type': 'careers page', 'url': 'https://apply.workable.com/huggingface/'}, {'type': 'blog', 'url': 'https://huggingface.co/blog'}, {'type': 'company page', 'url': 'https://www.linkedin.com/company/huggingface/'}, {'type': 'community discussion', 'url': 'https://discuss.huggingface.co'}, {'type': 'status page', 'url': 'https://status.huggingface.co/'}]} \n",
      "\n"
     ]
    },
    {
     "data": {
      "text/markdown": [
       "# Hugging Face Brochure\n",
       "\n",
       "## About Us\n",
       "**Hugging Face** is an innovative company at the forefront of artificial intelligence, dedicated to building the future of machine learning (ML) and natural language processing (NLP). Founded in 2016, we are a dynamic startup based in Paris, with a mission to democratize AI through community collaboration. Our approach combines cutting-edge technology with open-source principles, allowing users to create, discover, and share models, datasets, and applications.\n",
       "\n",
       "---\n",
       "\n",
       "## Our Offerings\n",
       "- **Models**: Access over 1 million models across various modalities including text, images, audio, and video.\n",
       "- **Datasets**: Explore a vast repository of more than 250,000 datasets tailored for machine learning tasks.\n",
       "- **Spaces**: Host and collaborate on applications in our community-driven feature to foster innovation and experimentation.\n",
       "- **Enterprise Solutions**: Tailored services for organizations that include enterprise-grade security, resource management, and dedicated support.\n",
       "\n",
       "---\n",
       "\n",
       "## Culture & Community\n",
       "At Hugging Face, we believe in the power of collaboration. Our culture is built around **openness**, **innovation**, and a commitment to improving AI technologies through community-driven initiatives. We celebrate diversity and encourage contributions from a wide range of backgrounds in AI and beyond.\n",
       "\n",
       "### Community Engagement\n",
       "- **Contributions**: Join our active community of over 50,000 organizations and individual contributors shaping the future of machine learning.\n",
       "- **Open Source Projects**: Engage with our open-source tools like Transformers, Diffusers, and many others, allowing developers to contribute to ML tooling.\n",
       "\n",
       "---\n",
       "\n",
       "## Our Customers\n",
       "Our platform is trusted by over 50,000 organizations including tech giants like Microsoft, Google, Amazon, and numerous startups and research institutions. These partnerships fuel our mission to support the broader ML community while delivering valuable tools on our platform.\n",
       "\n",
       "---\n",
       "\n",
       "## Careers at Hugging Face\n",
       "We are constantly on the lookout for passionate individuals who want to change the world through AI. Whether you're a software engineer, researcher, or product manager, we offer a vibrant work environment that fosters growth and creativity.\n",
       "\n",
       "### Current Openings\n",
       "Join our team and be a part of a groundbreaking journey in AI. Check our [careers page](https://huggingface.co/jobs) to see current openings and apply!\n",
       "\n",
       "---\n",
       "\n",
       "## Join Us\n",
       "Become part of a vibrant community that is passionate about pushing the boundaries of technology and creating meaningful impact. Whether you're an enthusiast, a seasoned professional, or a curious observer, there's a place for you at Hugging Face.\n",
       "\n",
       "**Explore More:**  \n",
       "- [Visit our website](https://huggingface.co)  \n",
       "- [Follow us on Twitter](https://twitter.com/huggingface)  \n",
       "- [Join discussions in our Forums](https://huggingface.co/forums)  \n",
       "\n",
       "--- \n",
       "\n",
       "Together, we are building the future of AI — one collaboration at a time!"
      ],
      "text/plain": [
       "<IPython.core.display.Markdown object>"
      ]
     },
     "metadata": {},
     "output_type": "display_data"
    },
    {
     "name": "stdout",
     "output_type": "stream",
     "text": [
      "\n",
      "Display Id: 6a009801e4079de8910a1bd4cca643c3\n"
     ]
    }
   ],
   "source": [
    "stream_brochure(\"HuggingFace\", \"https://huggingface.co\")"
   ]
  },
  {
   "cell_type": "code",
   "execution_count": 112,
   "id": "fdb3f8d8-a3eb-41c8-b1aa-9f60686a653b",
   "metadata": {},
   "outputs": [
    {
     "name": "stdout",
     "output_type": "stream",
     "text": [
      "Found links: {'links': [{'type': 'about page', 'url': 'https://huggingface.co/'}, {'type': 'company page', 'url': 'https://huggingface.co/huggingface'}, {'type': 'careers page', 'url': 'https://apply.workable.com/huggingface/'}, {'type': 'blog', 'url': 'https://huggingface.co/blog'}, {'type': 'community page', 'url': 'https://discuss.huggingface.co'}, {'type': 'GitHub page', 'url': 'https://github.com/huggingface'}, {'type': 'LinkedIn page', 'url': 'https://www.linkedin.com/company/huggingface/'}, {'type': 'Twitter page', 'url': 'https://twitter.com/huggingface'}]} \n",
      "\n"
     ]
    },
    {
     "data": {
      "text/markdown": [
       "# 🤗 Hugging Face: The Friendship You Never Knew You Needed! \n",
       "\n",
       "Welcome to Hugging Face, where Artificial Intelligence meets friendly conversation! We're here to sprinkle some joy and fun into your tech journey as we build the AI future together. 🌟 \n",
       "\n",
       "---\n",
       "\n",
       "### **Our Mission? Hug It Out! 🤗**\n",
       "At Hugging Face, we believe in democratizing AI—our goal is to make machine learning tools accessible to everyone! Whether you're data-savvy or just getting started, we’ve got something for you. \n",
       "\n",
       "### **Models, Data, and Fun-times! 📊**\n",
       "Join the *1 Million+ Models* library, where you can browse everything from **state-of-the-art Transformers** to image-generating wizards like Gradio! Choose your adventure with **Datasets**, and explore **Spaces** to create applications that will delight you and your friends (or just impress your cat)! \n",
       "\n",
       "---\n",
       "\n",
       "### **Our Customers? A Whimsical Blend! 🍰**\n",
       "We serve over **50,000 organizations**, from sharp tech giants like **Amazon and Google** to non-profits working towards a better world. Think of us as the world’s cozy corner café for AI wizards to gather, share ideas, and build brilliance together. \n",
       "\n",
       "🔮 **Trending Models**:\n",
       "- **microsoft/bitnet-b1.58-2B-4T**: Updating faster than your friend’s Instagram!\n",
       "- **HiDream-ai/HiDream-I1-Full**: The ambitious model you can always count on!\n",
       "\n",
       "---\n",
       "\n",
       "### **Careers at Hugging Face: The Job of Your Dreams! 🌈**\n",
       "Looking to join our merry band of tech enthusiasts? We’re on the hunt for adventurous minds who want to ride the waves of AI revolution! From software engineers to machine learning aficionados, if you've got a knack for innovation and a passion for collaboration, we can’t wait to chat! 🗣️ Don't worry, it’s a *hug-friendly interview process!* 🤗 \n",
       "\n",
       "**Current Openings**: We have millions of roles no one knows about... just kidding, check out our careers page for real opportunities!\n",
       "\n",
       "---\n",
       "\n",
       "### **Life at Hugging Face: Culture & Community! 🎉**\n",
       "Our team is a delightful mix of people who love tech, AI, and sharing a laugh. Think brains, passion, and, dare we say, some serious hugging energy (we're just a tad sentimental here)! Join our **forums** to connect with other curious minds, swap tips, or share your cool projects! \n",
       "\n",
       "### **Join Us! 🚀**\n",
       "Whether you want to partner with us to develop groundbreaking AI models or join our vibrant team, Hugging Face is excited to welcome you to our warm, joyful community. \n",
       "\n",
       "**Let’s build the future together! Get started today by signing up on [Hugging Face](https://huggingface.co)!** \n",
       "\n",
       "---\n",
       "\n",
       "*Remember: In a world of artificial anything, we still believe in the magic of a good hug!*"
      ],
      "text/plain": [
       "<IPython.core.display.Markdown object>"
      ]
     },
     "metadata": {},
     "output_type": "display_data"
    },
    {
     "name": "stdout",
     "output_type": "stream",
     "text": [
      "\n",
      "Display Id: 36966f9d0e4183ff7e1a3304b2937504\n"
     ]
    }
   ],
   "source": [
    "# Try changing the system prompt to the humorous version when you make the Brochure for Hugging Face:\n",
    "system_prompt = system_prompt2\n",
    "\n",
    "stream_brochure(\"HuggingFace\", \"https://huggingface.co\")"
   ]
  },
  {
   "cell_type": "markdown",
   "id": "a27bf9e0-665f-4645-b66b-9725e2a959b5",
   "metadata": {},
   "source": [
    "<table style=\"margin: 0; text-align: left;\">\n",
    "    <tr>\n",
    "        <td style=\"width: 150px; height: 150px; vertical-align: middle;\">\n",
    "            <img src=\"../business.jpg\" width=\"150\" height=\"150\" style=\"display: block;\" />\n",
    "        </td>\n",
    "        <td>\n",
    "            <h2 style=\"color:#181;\">Business applications</h2>\n",
    "            <span style=\"color:#181;\">In this exercise we extended the Day 1 code to make multiple LLM calls, and generate a document.\n",
    "\n",
    "This is perhaps the first example of Agentic AI design patterns, as we combined multiple calls to LLMs. This will feature more in Week 2, and then we will return to Agentic AI in a big way in Week 8 when we build a fully autonomous Agent solution.\n",
    "\n",
    "Generating content in this way is one of the very most common Use Cases. As with summarization, this can be applied to any business vertical. Write marketing content, generate a product tutorial from a spec, create personalized email content, and so much more. Explore how you can apply content generation to your business, and try making yourself a proof-of-concept prototype. See what other students have done in the community-contributions folder -- so many valuable projects -- it's wild!</span>\n",
    "        </td>\n",
    "    </tr>\n",
    "</table>"
   ]
  },
  {
   "cell_type": "markdown",
   "id": "14b2454b-8ef8-4b5c-b928-053a15e0d553",
   "metadata": {},
   "source": [
    "<table style=\"margin: 0; text-align: left;\">\n",
    "    <tr>\n",
    "        <td style=\"width: 150px; height: 150px; vertical-align: middle;\">\n",
    "            <img src=\"../important.jpg\" width=\"150\" height=\"150\" style=\"display: block;\" />\n",
    "        </td>\n",
    "        <td>\n",
    "            <h2 style=\"color:#900;\">Before you move to Week 2 (which is tons of fun)</h2>\n",
    "            <span style=\"color:#900;\">Please see the week1 EXERCISE notebook for your challenge for the end of week 1. This will give you some essential practice working with Frontier APIs, and prepare you well for Week 2.</span>\n",
    "        </td>\n",
    "    </tr>\n",
    "</table>"
   ]
  },
  {
   "cell_type": "markdown",
   "id": "17b64f0f-7d33-4493-985a-033d06e8db08",
   "metadata": {},
   "source": [
    "<table style=\"margin: 0; text-align: left;\">\n",
    "    <tr>\n",
    "        <td style=\"width: 150px; height: 150px; vertical-align: middle;\">\n",
    "            <img src=\"../resources.jpg\" width=\"150\" height=\"150\" style=\"display: block;\" />\n",
    "        </td>\n",
    "        <td>\n",
    "            <h2 style=\"color:#f71;\">A reminder on 3 useful resources</h2>\n",
    "            <span style=\"color:#f71;\">1. The resources for the course are available <a href=\"https://edwarddonner.com/2024/11/13/llm-engineering-resources/\">here.</a><br/>\n",
    "            2. I'm on LinkedIn <a href=\"https://www.linkedin.com/in/eddonner/\">here</a> and I love connecting with people taking the course!<br/>\n",
    "            3. I'm trying out X/Twitter and I'm at <a href=\"https://x.com/edwarddonner\">@edwarddonner<a> and hoping people will teach me how it's done..  \n",
    "            </span>\n",
    "        </td>\n",
    "    </tr>\n",
    "</table>"
   ]
  },
  {
   "cell_type": "markdown",
   "id": "6f48e42e-fa7a-495f-a5d4-26bfc24d60b6",
   "metadata": {},
   "source": [
    "<table style=\"margin: 0; text-align: left;\">\n",
    "    <tr>\n",
    "        <td style=\"width: 150px; height: 150px; vertical-align: middle;\">\n",
    "            <img src=\"../thankyou.jpg\" width=\"150\" height=\"150\" style=\"display: block;\" />\n",
    "        </td>\n",
    "        <td>\n",
    "            <h2 style=\"color:#090;\">Finally! I have a special request for you</h2>\n",
    "            <span style=\"color:#090;\">\n",
    "                My editor tells me that it makes a MASSIVE difference when students rate this course on Udemy - it's one of the main ways that Udemy decides whether to show it to others. If you're able to take a minute to rate this, I'd be so very grateful! And regardless - always please reach out to me at ed@edwarddonner.com if I can help at any point.\n",
    "            </span>\n",
    "        </td>\n",
    "    </tr>\n",
    "</table>"
   ]
  },
  {
   "cell_type": "code",
   "execution_count": null,
   "id": "b8d3e1a1-ba54-4907-97c5-30f89a24775b",
   "metadata": {},
   "outputs": [],
   "source": []
  }
 ],
 "metadata": {
  "kernelspec": {
   "display_name": "Python 3 (ipykernel)",
   "language": "python",
   "name": "python3"
  },
  "language_info": {
   "codemirror_mode": {
    "name": "ipython",
    "version": 3
   },
   "file_extension": ".py",
   "mimetype": "text/x-python",
   "name": "python",
   "nbconvert_exporter": "python",
   "pygments_lexer": "ipython3",
   "version": "3.13.1"
  }
 },
 "nbformat": 4,
 "nbformat_minor": 5
}
