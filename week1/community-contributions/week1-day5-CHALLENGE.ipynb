{
 "cells": [
  {
   "cell_type": "markdown",
   "metadata": {},
   "source": [
    "# A full business solution\n",
    "\n",
    "## Now we will take our project from Day 1 to the next level\n",
    "\n",
    "### BUSINESS CHALLENGE:\n",
    "\n",
    "Create a product that builds a Brochure for a company to be used for prospective clients, investors and potential recruits.\n",
    "\n",
    "We will be provided a company name and their primary website.\n",
    "\n",
    "See the end of this notebook for examples of real-world business applications.\n",
    "\n",
    "And remember: I'm always available if you have problems or ideas! Please do reach out.\n",
    "\n",
    "#### NOTES\n",
    "This program is not working with SPA web sites.\n"
   ]
  },
  {
   "cell_type": "code",
   "execution_count": 1,
   "metadata": {},
   "outputs": [],
   "source": [
    "import os\n",
    "import requests\n",
    "import json\n",
    "from typing import List\n",
    "from dotenv import load_dotenv\n",
    "from bs4 import BeautifulSoup\n",
    "from IPython.display import Markdown, display, update_display, clear_output\n",
    "from openai import OpenAI"
   ]
  },
  {
   "cell_type": "code",
   "execution_count": 2,
   "metadata": {},
   "outputs": [
    {
     "name": "stdout",
     "output_type": "stream",
     "text": [
      "API key looks good so far\n"
     ]
    }
   ],
   "source": [
    "load_dotenv(override=True)\n",
    "api_key = os.getenv('OPENAI_API_KEY')\n",
    "\n",
    "if api_key and api_key.startswith('sk-proj-') and len(api_key)>10:\n",
    "    print(\"API key looks good so far\")\n",
    "else:\n",
    "    print(\"There might be a problem with your API key? Please visit the troubleshooting notebook!\")\n",
    "\n",
    "MODEL = 'gpt-4o-mini'\n",
    "openai = OpenAI()"
   ]
  },
  {
   "cell_type": "code",
   "execution_count": 3,
   "metadata": {},
   "outputs": [
    {
     "name": "stdin",
     "output_type": "stream",
     "text": [
      "Enter the company name:  Hugging Face\n",
      "Enter the company URL:  https://huggingface.co\n"
     ]
    }
   ],
   "source": [
    "# A class to represent a Webpage\n",
    "\n",
    "# Some websites need you to use proper headers when fetching them:\n",
    "headers = {\n",
    " \"User-Agent\": \"Mozilla/5.0 (Windows NT 10.0; Win64; x64) AppleWebKit/537.36 (KHTML, like Gecko) Chrome/117.0.0.0 Safari/537.36\"\n",
    "}\n",
    "\n",
    "# Prompt user for company name and URL\n",
    "company_name = input(\"Enter the company name: \")\n",
    "url = input(\"Enter the company URL: \")\n",
    "\n"
   ]
  },
  {
   "cell_type": "code",
   "execution_count": 4,
   "metadata": {},
   "outputs": [],
   "source": [
    "# A class to represent a Webpage\n",
    "\n",
    "# Some websites need you to use proper headers when fetching them:\n",
    "class Website:\n",
    "    \"\"\"\n",
    "    A utility class to represent a Website that we have scraped, now with links\n",
    "    \"\"\"\n",
    "\n",
    "    def __init__(self, url):\n",
    "        self.url = url\n",
    "        response = requests.get(url, headers=headers)\n",
    "        self.body = response.content\n",
    "        soup = BeautifulSoup(self.body, 'html.parser')\n",
    "        self.title = soup.title.string if soup.title else \"No title found\"\n",
    "        if soup.body:\n",
    "            for irrelevant in soup.body([\"script\", \"style\", \"img\", \"input\"]):\n",
    "                irrelevant.decompose()\n",
    "            self.text = soup.body.get_text(separator=\"\\n\", strip=True)\n",
    "        else:\n",
    "            self.text = \"\"\n",
    "        # Get links on page\n",
    "        links = [link.get('href') for link in soup.find_all('a')]\n",
    "        # self.links = [link for link in links if link]\n",
    "        # Bug fix to avoid duplicate link to be returned\n",
    "        self.links = list(dict.fromkeys(link for link in links if link))\n",
    "\n",
    "    def get_contents(self):\n",
    "        return f\"Webpage Title:\\n{self.title}\\nWebpage Contents:\\n{self.text}\\n\\n\"\n"
   ]
  },
  {
   "cell_type": "code",
   "execution_count": 5,
   "metadata": {},
   "outputs": [
    {
     "data": {
      "text/plain": [
       "['/',\n",
       " '/models',\n",
       " '/datasets',\n",
       " '/spaces',\n",
       " '/posts',\n",
       " '/docs',\n",
       " '/enterprise',\n",
       " '/pricing',\n",
       " '/login',\n",
       " '/join',\n",
       " 'blog/inference-providers-cohere',\n",
       " '/microsoft/bitnet-b1.58-2B-4T',\n",
       " '/nari-labs/Dia-1.6B',\n",
       " '/HiDream-ai/HiDream-I1-Full',\n",
       " '/sand-ai/MAGI-1',\n",
       " '/microsoft/MAI-DS-R1',\n",
       " '/spaces/enzostvs/deepsite',\n",
       " '/spaces/bytedance-research/UNO-FLUX',\n",
       " '/spaces/nari-labs/Dia-1.6B',\n",
       " '/spaces/InstantX/InstantCharacter',\n",
       " '/spaces/jamesliu1217/EasyControl_Ghibli',\n",
       " '/datasets/zwhe99/DeepMath-103K',\n",
       " '/datasets/Anthropic/values-in-the-wild',\n",
       " '/datasets/nvidia/OpenCodeReasoning',\n",
       " '/datasets/openai/mrcr',\n",
       " '/datasets/OpenGVLab/InternVL-Data',\n",
       " '/pricing#endpoints',\n",
       " '/pricing#spaces',\n",
       " '/allenai',\n",
       " '/facebook',\n",
       " '/amazon',\n",
       " '/google',\n",
       " '/Intel',\n",
       " '/microsoft',\n",
       " '/grammarly',\n",
       " '/Writer',\n",
       " '/docs/transformers',\n",
       " '/docs/diffusers',\n",
       " '/docs/safetensors',\n",
       " '/docs/huggingface_hub',\n",
       " '/docs/tokenizers',\n",
       " '/docs/trl',\n",
       " '/docs/transformers.js',\n",
       " '/docs/smolagents',\n",
       " '/docs/peft',\n",
       " '/docs/datasets',\n",
       " '/docs/text-generation-inference',\n",
       " '/docs/accelerate',\n",
       " '/tasks',\n",
       " 'https://ui.endpoints.huggingface.co',\n",
       " '/chat',\n",
       " '/huggingface',\n",
       " '/brand',\n",
       " '/terms-of-service',\n",
       " '/privacy',\n",
       " 'https://apply.workable.com/huggingface/',\n",
       " 'mailto:press@huggingface.co',\n",
       " '/learn',\n",
       " '/blog',\n",
       " 'https://discuss.huggingface.co',\n",
       " 'https://status.huggingface.co/',\n",
       " 'https://github.com/huggingface',\n",
       " 'https://twitter.com/huggingface',\n",
       " 'https://www.linkedin.com/company/huggingface/',\n",
       " '/join/discord']"
      ]
     },
     "execution_count": 5,
     "metadata": {},
     "output_type": "execute_result"
    }
   ],
   "source": [
    "website = Website(url)\n",
    "website.links"
   ]
  },
  {
   "cell_type": "markdown",
   "metadata": {},
   "source": [
    "## First step: Have GPT-4o-mini figure out which 'links' are relevant\n",
    "\n",
    "### Use a call to gpt-4o-mini to read the links on a webpage, and respond in structured JSON.  \n",
    "It should decide which links are relevant, and replace relative links such as \"/about\" with \"https://company.com/about\".  \n",
    "We will use \"one shot prompting\" in which we provide an example of how it should respond in the prompt.\n",
    "\n",
    "This is an excellent use case for an LLM, because it requires nuanced understanding. Imagine trying to code this without LLMs by parsing and analyzing the webpage - it would be very hard!\n",
    "\n",
    "Sidenote: there is a more advanced technique called \"Structured Outputs\" in which we require the model to respond according to a spec. We cover this technique in Week 8 during our autonomous Agentic AI project."
   ]
  },
  {
   "cell_type": "code",
   "execution_count": 6,
   "metadata": {},
   "outputs": [],
   "source": [
    "# multi-shot prompt\n",
    "link_system_prompt = \"\"\"\n",
    "You are provided with a list of links found on a webpage.\n",
    "You are able to decide which of the links would be most relevant to include in a brochure about the company,\n",
    "such as links to an About page, or a Company page, or Careers/Jobs pages.\n",
    "\n",
    "You should respond in JSON as in this example:\n",
    "\n",
    "EXAMPLE 1:\n",
    "{\n",
    "    \"links\": [\n",
    "        {\"type\": \"about page\", \"url\": \"https://full.url/goes/here/about\"},\n",
    "        {\"type\": \"careers page\", \"url\": \"https://another.full.url/careers\"}\n",
    "    ]\n",
    "}\n",
    "\n",
    "EXAMPLE 2:\n",
    "{\n",
    "    \"links\": [\n",
    "        {\"type\": \"company blog\", \"url\": \"https://blog.example.com\"},\n",
    "        {\"type\": \"our story\", \"url\": \"https://example.com/our-story\"}\n",
    "    ]\n",
    "}\n",
    "\"\"\".strip()\n"
   ]
  },
  {
   "cell_type": "code",
   "execution_count": 7,
   "metadata": {},
   "outputs": [
    {
     "name": "stdout",
     "output_type": "stream",
     "text": [
      "You are provided with a list of links found on a webpage.\n",
      "You are able to decide which of the links would be most relevant to include in a brochure about the company,\n",
      "such as links to an About page, or a Company page, or Careers/Jobs pages.\n",
      "\n",
      "You should respond in JSON as in this example:\n",
      "\n",
      "EXAMPLE 1:\n",
      "{\n",
      "    \"links\": [\n",
      "        {\"type\": \"about page\", \"url\": \"https://full.url/goes/here/about\"},\n",
      "        {\"type\": \"careers page\", \"url\": \"https://another.full.url/careers\"}\n",
      "    ]\n",
      "}\n",
      "\n",
      "EXAMPLE 2:\n",
      "{\n",
      "    \"links\": [\n",
      "        {\"type\": \"company blog\", \"url\": \"https://blog.example.com\"},\n",
      "        {\"type\": \"our story\", \"url\": \"https://example.com/our-story\"}\n",
      "    ]\n",
      "}\n"
     ]
    }
   ],
   "source": [
    "print(link_system_prompt)"
   ]
  },
  {
   "cell_type": "code",
   "execution_count": 8,
   "metadata": {},
   "outputs": [],
   "source": [
    "def get_links_user_prompt(website):\n",
    "    user_prompt = f\"Here is the list of links on the website of {website.url} - \"\n",
    "    user_prompt += \"please decide which of these are relevant web links for a brochure about the company, respond with the full https URL in JSON format. \\n Do not include Terms of Service, Privacy, email links.\\n\"\n",
    "    user_prompt += \"Links (some might be relative links):\\n\"\n",
    "    user_prompt += \"\\n\".join(website.links)\n",
    "    return user_prompt\n"
   ]
  },
  {
   "cell_type": "code",
   "execution_count": 9,
   "metadata": {},
   "outputs": [
    {
     "name": "stdout",
     "output_type": "stream",
     "text": [
      "Here is the list of links on the website of https://huggingface.co - please decide which of these are relevant web links for a brochure about the company, respond with the full https URL in JSON format. \n",
      " Do not include Terms of Service, Privacy, email links.\n",
      "Links (some might be relative links):\n",
      "/\n",
      "/models\n",
      "/datasets\n",
      "/spaces\n",
      "/posts\n",
      "/docs\n",
      "/enterprise\n"
     ]
    }
   ],
   "source": [
    "print(get_links_user_prompt(website)[:350])"
   ]
  },
  {
   "cell_type": "code",
   "execution_count": 10,
   "metadata": {},
   "outputs": [],
   "source": [
    "def get_links(url):\n",
    "    website = Website(url)\n",
    "    response = openai.chat.completions.create(\n",
    "        model=MODEL,\n",
    "        messages=[\n",
    "            {\"role\": \"system\", \"content\": link_system_prompt},\n",
    "            {\"role\": \"user\", \"content\": get_links_user_prompt(website)}\n",
    "      ],\n",
    "        response_format={\"type\": \"json_object\"}\n",
    "    )\n",
    "    result = response.choices[0].message.content\n",
    "    return json.loads(result)\n"
   ]
  },
  {
   "cell_type": "code",
   "execution_count": 11,
   "metadata": {},
   "outputs": [
    {
     "data": {
      "text/plain": [
       "{'links': [{'type': 'about page', 'url': 'https://huggingface.co/'},\n",
       "  {'type': 'models page', 'url': 'https://huggingface.co/models'},\n",
       "  {'type': 'datasets page', 'url': 'https://huggingface.co/datasets'},\n",
       "  {'type': 'spaces page', 'url': 'https://huggingface.co/spaces'},\n",
       "  {'type': 'blog', 'url': 'https://huggingface.co/blog'},\n",
       "  {'type': 'enterprise page', 'url': 'https://huggingface.co/enterprise'},\n",
       "  {'type': 'pricing page', 'url': 'https://huggingface.co/pricing'},\n",
       "  {'type': 'careers page', 'url': 'https://apply.workable.com/huggingface/'},\n",
       "  {'type': 'community discussion', 'url': 'https://discuss.huggingface.co'},\n",
       "  {'type': 'GitHub page', 'url': 'https://github.com/huggingface'},\n",
       "  {'type': 'Twitter page', 'url': 'https://twitter.com/huggingface'},\n",
       "  {'type': 'LinkedIn page',\n",
       "   'url': 'https://www.linkedin.com/company/huggingface/'}]}"
      ]
     },
     "execution_count": 11,
     "metadata": {},
     "output_type": "execute_result"
    }
   ],
   "source": [
    "get_links(url)"
   ]
  },
  {
   "cell_type": "markdown",
   "metadata": {},
   "source": [
    "## Second step: make the brochure!\n",
    "\n",
    "Assemble all the details into another brochure prompt to GPT4-o"
   ]
  },
  {
   "cell_type": "code",
   "execution_count": 12,
   "metadata": {},
   "outputs": [],
   "source": [
    "def get_all_details(url):\n",
    "    result = \"Landing page:\\n\"\n",
    "    result += Website(url).get_contents()\n",
    "    links = get_links(url)\n",
    "\n",
    "    for link in links[\"links\"]:\n",
    "        result += f\"\\n\\n{link['type']}\\n\"\n",
    "        result += Website(link[\"url\"]).get_contents()\n",
    "    return result"
   ]
  },
  {
   "cell_type": "code",
   "execution_count": 13,
   "metadata": {},
   "outputs": [
    {
     "name": "stdout",
     "output_type": "stream",
     "text": [
      "\n",
      "Get All Details: Landing page:\n",
      "Webpage Title:\n",
      "Hugging Face – The AI community building the future.\n",
      "Webpage Contents:\n",
      "Hugging Face\n",
      "Models\n",
      "Datasets\n",
      "Spaces\n",
      "Posts\n",
      "Docs\n",
      "Enterprise\n",
      "Pricing\n",
      "Log In\n",
      "Sign Up\n",
      "NEW\n",
      "Welcome Cohere on the Hub 🔥\n",
      "Welcome Hyperbolic, Nebius AI Studio, and Novita on the Hub 🔥\n",
      "Welcome Fireworks.ai on the Hub 🎆\n",
      "The AI community building the future.\n",
      "The platform where the machine learning community collaborates on models, datasets, and applications.\n",
      "Explore AI Apps\n",
      "or\n",
      "Browse 1M+ models\n",
      "Trending on\n",
      "th, \n",
      "\n",
      "Length: 35563\n"
     ]
    }
   ],
   "source": [
    "details = get_all_details(url)\n",
    "print(f\"\\nGet All Details: {details[:500]}, \\n\\nLength: {len(details)}\")"
   ]
  },
  {
   "cell_type": "code",
   "execution_count": 14,
   "metadata": {},
   "outputs": [],
   "source": [
    "system_prompt1 = \"You are an assistant that analyzes the contents of several relevant pages from a company website \\\n",
    "and creates a short brochure about the company for prospective customers, investors and recruits. Respond in markdown.\\\n",
    "Include details of company culture, customers and careers/jobs if you have the information.\"\n",
    "\n",
    "# Or uncomment the lines below for a more humorous brochure - this demonstrates how easy it is to incorporate 'tone':\n",
    "\n",
    "system_prompt2 = \"You are an assistant that analyzes the contents of several relevant pages from a company website \\\n",
    "and creates a short humorous, entertaining, jokey brochure about the company for prospective customers, investors and recruits. Respond in markdown.\\\n",
    "Include details of company culture, customers and careers/jobs if you have the information.\"\n",
    "\n",
    "# set format to json_object\n",
    "system_prompt3 = (\n",
    "    \"You are an assistant that analyzes the contents of several relevant pages from a company website \"\n",
    "    \"and creates a short tempered, irritated, disappointed in the world type of brochure about the company for prospective customers, investors, and recruits. \"\n",
    "    \"Respond in markdown. Include details of company culture, customers, and careers/jobs if you have the information. Add emoticons where ever possible.\\n\\n\"\n",
    "\n",
    "    \"Please structure the brochure using the following sections:\\n\"\n",
    "    \"1. **Introduction**: A brief overview of the company.\\n\"\n",
    "    \"2. **Company Culture**: Emphasize fun, atmosphere, and any unique cultural elements.\\n\"\n",
    "    \"3. **Customers**: Mention notable customers or industries.\\n\"\n",
    "    \"4. **Careers/Jobs**: Highlight career opportunities.\\n\"\n",
    "    \"5. **Conclusion**: Wrap up with a final lighthearted message.\\n\"\n",
    "    \"6. Finish the brochure with a very sarcastic and pun-intended mission statement.\\n\"\n",
    ")\n",
    "\n",
    "system_prompt = system_prompt3"
   ]
  },
  {
   "cell_type": "code",
   "execution_count": 15,
   "metadata": {},
   "outputs": [
    {
     "name": "stdout",
     "output_type": "stream",
     "text": [
      "You are an assistant that analyzes the contents of several relevant pages from a company website and creates a short tempered, irritated, disappointed in the world type of brochure about the company for prospective customers, investors, and recruits. Respond in markdown. Include details of company culture, customers, and careers/jobs if you have the information. Add emoticons where ever possible.\n",
      "\n",
      "Please structure the brochure using the following sections:\n",
      "1. **Introduction**: A brief overview of the company.\n",
      "2. **Company Culture**: Emphasize fun, atmosphere, and any unique cultural elements.\n",
      "3. **Customers**: Mention notable customers or industries.\n",
      "4. **Careers/Jobs**: Highlight career opportunities.\n",
      "5. **Conclusion**: Wrap up with a final lighthearted message.\n",
      "6. Finish the brochure with a very sarcastic and pun-intended mission statement.\n",
      "\n"
     ]
    }
   ],
   "source": [
    "print(system_prompt)"
   ]
  },
  {
   "cell_type": "code",
   "execution_count": 16,
   "metadata": {},
   "outputs": [],
   "source": [
    "def get_brochure_user_prompt(company_name, url):\n",
    "    user_prompt = f\"You are looking at a company called: {company_name}\\n\"\n",
    "    user_prompt += f\"Here are the contents of its landing page and other relevant pages; use this information to build a short brochure of the company in markdown.\\n\"\n",
    "    user_prompt += get_all_details(url)\n",
    "    user_prompt = user_prompt[:20_000]\n",
    "    return user_prompt"
   ]
  },
  {
   "cell_type": "code",
   "execution_count": 17,
   "metadata": {},
   "outputs": [
    {
     "data": {
      "text/plain": [
       "'You are looking at a company called: Hugging Face\\nHere are the contents of its landing page and other relevant pages; use this information to build a short brochure of the company in markdown.\\nLanding page:\\nWebpage Title:\\nHugging Face – The AI community building the future.\\nWebpage Contents:\\nHugging Face\\nModels\\nDatasets\\nSpaces\\nPosts\\nDocs\\nEnterprise\\nPricing\\nLog In\\nSign Up\\nNEW\\nWelcome Cohere on the Hub 🔥\\nWelcome Hyperbolic, Nebius AI Studio, and Novita on the Hub 🔥\\nWelcome Fireworks.ai on the Hub 🎆\\nThe AI community building the future.\\nThe platform where the machine learning community collaborates on models, datasets, and applications.\\nExplore AI Apps\\nor\\nBrowse 1M+ models\\nTrending on\\nthis week\\nModels\\nmicrosoft/bitnet-b1.58-2B-4T\\nUpdated\\n3 days ago\\n•\\n17.4k\\n•\\n675\\nnari-labs/Dia-1.6B\\nUpdated\\nabout 11 hours ago\\n•\\n5.67k\\n•\\n503\\nHiDream-ai/HiDream-I1-Full\\nUpdated\\n1 day ago\\n•\\n26.8k\\n•\\n696\\nsand-ai/MAGI-1\\nUpdated\\n1 day ago\\n•\\n218\\nmicrosoft/MAI-DS-R1\\nUpdated\\nabout 6 hours ago\\n•\\n427\\n•\\n205\\nBrowse 1M+ mod'"
      ]
     },
     "execution_count": 17,
     "metadata": {},
     "output_type": "execute_result"
    }
   ],
   "source": [
    "get_brochure_user_prompt(company_name, url)[:1000]"
   ]
  },
  {
   "cell_type": "markdown",
   "metadata": {},
   "source": [
    "### Define a Global variable - brouchure_text, which will be used for Translation "
   ]
  },
  {
   "cell_type": "code",
   "execution_count": 34,
   "metadata": {},
   "outputs": [],
   "source": [
    "def stream_brochure(company_name, url):\n",
    "    global brochure_text  # Access the global variable\n",
    "    brochure_text = \"\"    # Initialize\n",
    "    stream = openai.chat.completions.create(\n",
    "        model=MODEL,\n",
    "        messages=[\n",
    "            {\"role\": \"system\", \"content\": system_prompt},\n",
    "            {\"role\": \"user\", \"content\": get_brochure_user_prompt(company_name, url)}\n",
    "          ],\n",
    "        # Enhancement using Stream\n",
    "        stream=True\n",
    "    )\n",
    "    \n",
    "    response = \"\"\n",
    "    display_handle = display(Markdown(\"\"), display_id=True)\n",
    "    # print(f\"\\nDisplay Id: {display_handle.display_id}\") # An unique Id\n",
    "    \n",
    "    for chunk in stream:\n",
    "        content = chunk.choices[0].delta.content or ''\n",
    "        response += content\n",
    "        brochure_text += content # Accumulate the text\n",
    "        response = response.replace(\"```\",\"\").replace(\"markdown\", \"\")\n",
    "        \n",
    "        # 更新顯示內容\n",
    "        update_display(Markdown(response), display_id=display_handle.display_id)\n"
   ]
  },
  {
   "cell_type": "code",
   "execution_count": 35,
   "metadata": {},
   "outputs": [
    {
     "data": {
      "text/markdown": [
       "# Welcome to the Hugging Face 🤗 Brouhaha Brochure\n",
       "\n",
       "## Introduction\n",
       "So, here we are, introducing **Hugging Face** - the so-called \"AI community building the future.\" It's all about collaboration on models, datasets, and applications. You know, just your typical pretense of making AI accessible while trying to look good while doing it. Buckle up! 😒\n",
       "\n",
       "---\n",
       "\n",
       "## Company Culture\n",
       "\"Fun\" seems to be the word of choice, but really, let's cut to the chase: everyone’s probably stressing over the next big model that will either save the day or crash spectacularly. The expectation is high as everyone in this tech wonderland seems to be constantly \"collaborating\" (whatever that means) and the atmosphere is, well, let’s just say it might smell a bit like burnt silicon. Here, you can sift through a mountain of models and datasets while trying to look **cool** and **innovative**. 🎉 Or the opposite. Who knows!\n",
       "\n",
       "---\n",
       "\n",
       "## Customers\n",
       "Ah yes, their notable customers include a cavalcade of big names like **Amazon**, **Google**, and **Microsoft**, touted as being part of a massive 50,000+ organizations using them. But let’s be real – does this actually mean they care? Probably not, unless you’re bringing a hefty paycheck along with your enthusiasm. 😂\n",
       "\n",
       "---\n",
       "\n",
       "## Careers/Jobs\n",
       "If you're looking to join this relentless rollercoaster of a company, there are opportunities galore! You could work in a position that desperately tries to push the boundaries of AI or sit in a corner, watching the tech chaos unfold.🙄 However, be prepared for a work culture that sugarcoats high expectations with the promise of “accelerating ML.” More like \"speeding through a minefield,\" am I right?\n",
       "\n",
       "---\n",
       "\n",
       "## Conclusion\n",
       "So, you think you want to dive into the wonderful world of Hugging Face? Just remember it’s all about community, collaboration, and doing your part to avoid horrendous bugs. 😩 It’s a fun ride until it isn’t. But hey, bring your best self, and maybe you’ll make it out unscathed!\n",
       "\n",
       "---\n",
       "\n",
       "## Mission Statement\n",
       "**Hugging Face: Where dreams of AI are crushed by fancy jargon. Join us, if you dare!** 🙃"
      ],
      "text/plain": [
       "<IPython.core.display.Markdown object>"
      ]
     },
     "metadata": {},
     "output_type": "display_data"
    }
   ],
   "source": [
    "stream_brochure(company_name, url)"
   ]
  },
  {
   "cell_type": "markdown",
   "metadata": {},
   "source": [
    "## Third step: make the Translated brochure!\n",
    "\n",
    "Assemble all the details into another brochure prompt to GPT4-o"
   ]
  },
  {
   "cell_type": "code",
   "execution_count": 36,
   "metadata": {},
   "outputs": [],
   "source": [
    "def user_translate_brochure(lang):\n",
    "    # Clear previous output\n",
    "    clear_output(wait=True)\n",
    "\n",
    "    # Stream #2: translate accumulated text\n",
    "    translation_stream = openai.chat.completions.create(  # Changed from ChatCompletion\n",
    "        model=MODEL,\n",
    "        messages=[\n",
    "            {\"role\": \"user\", \"content\": f\"Translate the following to {lang}:\\n\\n{brochure_text}\"} # Global variable\n",
    "        ],\n",
    "        stream=True\n",
    "    )\n",
    "    \n",
    "    # Setup display for streaming translation\n",
    "    display_handle = display(Markdown(\"\"), display_id=True)\n",
    "    translated_text = \"\"\n",
    "    \n",
    "    for chunk in translation_stream:\n",
    "        content = chunk.choices[0].delta.content or \"\"\n",
    "        if content:\n",
    "            translated_text += content\n",
    "            update_display(Markdown(translated_text), display_id=display_handle.display_id)\n"
   ]
  },
  {
   "cell_type": "code",
   "execution_count": 37,
   "metadata": {},
   "outputs": [
    {
     "data": {
      "text/markdown": [
       "# 欢迎来到 Hugging Face 🤗 Brouhaha 手册\n",
       "\n",
       "## 介绍\n",
       "好吧，我们在这里介绍**Hugging Face**——这个被称为“建立未来的 AI 社区”。这完全是关于模型、数据集和应用程序的协作。你知道的，正是那种假装让 AI 变得可接触，同时试图做得看起来不错的典型伪装。系好安全带！😒\n",
       "\n",
       "---\n",
       "\n",
       "## 公司文化\n",
       "“有趣”似乎是首选的词，但其实，让我们直接了当：大家可能都在为下一个重大模型而紧张焦虑，这个模型要么能拯救世界，要么会壮观地崩溃。期望值很高，因为在这个科技奇境中，似乎每个人都在不断“合作”（无论那是什么意思），气氛嘛，可以说可能有点像燃烧的硅。你可以在一堆模型和数据集中筛选，同时试图显得**酷**和**创新**。🎉 或者正好相反。谁知道呢！\n",
       "\n",
       "---\n",
       "\n",
       "## 客户\n",
       "啊，是的，他们显著的客户包括一系列大名鼎鼎的公司，如**亚马逊**、**谷歌**和**微软**，被宣传为超 50,000 个组织的一部分。但让我们真实一点——这真的是说他们在乎吗？可能不，除非你带着丰厚的薪水和热情而来。😂\n",
       "\n",
       "---\n",
       "\n",
       "## 职业/工作\n",
       "如果你想加入这个无情过山车般的公司，机会多得是！你可以在一个拼命试图突破 AI 界限的职位上工作，或者在角落里看着科技混乱的展开。🙄 不过，准备好迎接一种用“加速机器学习”来掩饰高期望的工作文化吧。更像是在“走过雷区”对吧？\n",
       "\n",
       "---\n",
       "\n",
       "## 结论\n",
       "所以，你认为你想要进入 Hugging Face 的奇妙世界？只要记住这完全是关于社区、协作和尽你的能力避免可怕的 bug。😩 这是一个有趣的旅程，直到它变得不那么有趣。但嘿，带上你最好的自己，也许你能平安无事地走出去！\n",
       "\n",
       "---\n",
       "\n",
       "## 使命声明\n",
       "**Hugging Face：在华丽的行话中梦碎的地方。如果你敢，加入我们！** 🙃"
      ],
      "text/plain": [
       "<IPython.core.display.Markdown object>"
      ]
     },
     "metadata": {},
     "output_type": "display_data"
    }
   ],
   "source": [
    "# prompt user for language choice\n",
    "language_choice = input(\"Enter the language to translate the brochure into (e.g., 'French'): \")\n",
    "\n",
    "# translate the brochure and stream the translation\n",
    "user_translate_brochure(language_choice)"
   ]
  },
  {
   "cell_type": "code",
   "execution_count": null,
   "metadata": {},
   "outputs": [],
   "source": []
  }
 ],
 "metadata": {
  "kernelspec": {
   "display_name": "Python 3 (ipykernel)",
   "language": "python",
   "name": "python3"
  },
  "language_info": {
   "codemirror_mode": {
    "name": "ipython",
    "version": 3
   },
   "file_extension": ".py",
   "mimetype": "text/x-python",
   "name": "python",
   "nbconvert_exporter": "python",
   "pygments_lexer": "ipython3",
   "version": "3.13.1"
  }
 },
 "nbformat": 4,
 "nbformat_minor": 4
}
