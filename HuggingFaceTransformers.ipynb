{
 "cells": [
  {
   "cell_type": "code",
   "execution_count": 2,
   "id": "6b495a70-08f3-4680-969b-0e92f7233b3e",
   "metadata": {},
   "outputs": [
    {
     "name": "stderr",
     "output_type": "stream",
     "text": [
      "Device set to use cpu\n"
     ]
    },
    {
     "name": "stdout",
     "output_type": "stream",
     "text": [
      "[{'label': 'POSITIVE', 'score': 0.9971315860748291}]\n"
     ]
    }
   ],
   "source": [
    "from transformers import pipeline\n",
    "\n",
    "classifier = pipeline(\n",
    "    \"sentiment-analysis\",\n",
    "    model=\"distilbert/distilbert-base-uncased-finetuned-sst-2-english\",\n",
    "    revision=\"714eb0f\"  # this is the specific commit/hash\n",
    ")"
   ]
  },
  {
   "cell_type": "code",
   "execution_count": 11,
   "id": "77e0156b-8e70-46d2-aa77-77d3b99d1683",
   "metadata": {},
   "outputs": [
    {
     "name": "stdout",
     "output_type": "stream",
     "text": [
      "[{'label': 'POSITIVE', 'score': 0.9971315860748291}]\n"
     ]
    }
   ],
   "source": [
    "print(classifier(\"I love using Hugging Face Transformers!\"))"
   ]
  },
  {
   "cell_type": "code",
   "execution_count": 12,
   "id": "634c41e8-2809-422f-aa86-95d409a14009",
   "metadata": {},
   "outputs": [
    {
     "name": "stdout",
     "output_type": "stream",
     "text": [
      "[{'label': 'POSITIVE', 'score': 0.9998782873153687}]\n"
     ]
    }
   ],
   "source": [
    "print(classifier(\"I love summer!\"))"
   ]
  },
  {
   "cell_type": "code",
   "execution_count": 13,
   "id": "4f1feaaf-903e-4a62-8618-f183bdff7cb7",
   "metadata": {},
   "outputs": [
    {
     "name": "stdout",
     "output_type": "stream",
     "text": [
      "[{'label': 'POSITIVE', 'score': 0.9998643398284912}]\n"
     ]
    }
   ],
   "source": [
    "print(classifier(\"I feel great!\"))"
   ]
  },
  {
   "cell_type": "code",
   "execution_count": 14,
   "id": "f0a91b74-4a14-476d-937d-ccac0532c8f6",
   "metadata": {},
   "outputs": [
    {
     "name": "stdout",
     "output_type": "stream",
     "text": [
      "[{'label': 'NEGATIVE', 'score': 0.9942193031311035}]\n"
     ]
    }
   ],
   "source": [
    "print(classifier(\"Based on Murphy's Law, ww should always hope for the best and plan for the worst!\"))"
   ]
  },
  {
   "cell_type": "code",
   "execution_count": 15,
   "id": "d1ea1248-3cb4-4af5-a737-3e6f54b39f7d",
   "metadata": {},
   "outputs": [
    {
     "name": "stdout",
     "output_type": "stream",
     "text": [
      "[{'label': 'POSITIVE', 'score': 0.9734576940536499}]\n"
     ]
    }
   ],
   "source": [
    "print(classifier(\"While it's wise to plan for challenges, we should always stay optimistic and expect the best—guided by Murphy’s Law.\"))"
   ]
  },
  {
   "cell_type": "code",
   "execution_count": null,
   "id": "ddb7ff3f-316d-4aa2-8c41-ad87fd1102f1",
   "metadata": {},
   "outputs": [],
   "source": []
  }
 ],
 "metadata": {
  "kernelspec": {
   "display_name": "Python 3 (ipykernel)",
   "language": "python",
   "name": "python3"
  },
  "language_info": {
   "codemirror_mode": {
    "name": "ipython",
    "version": 3
   },
   "file_extension": ".py",
   "mimetype": "text/x-python",
   "name": "python",
   "nbconvert_exporter": "python",
   "pygments_lexer": "ipython3",
   "version": "3.13.1"
  }
 },
 "nbformat": 4,
 "nbformat_minor": 5
}
