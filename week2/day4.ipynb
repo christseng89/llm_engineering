{
 "cells": [
  {
   "cell_type": "markdown",
   "id": "ddfa9ae6-69fe-444a-b994-8c4c5970a7ec",
   "metadata": {},
   "source": [
    "# Project - Airline AI Assistant\n",
    "\n",
    "We'll now bring together what we've learned to make an AI Customer Support assistant for an Airline"
   ]
  },
  {
   "cell_type": "code",
   "execution_count": 1,
   "id": "8b50bbe2-c0b1-49c3-9a5c-1ba7efa2bcb4",
   "metadata": {},
   "outputs": [],
   "source": [
    "# imports\n",
    "\n",
    "import os\n",
    "import json\n",
    "from dotenv import load_dotenv\n",
    "from openai import OpenAI\n",
    "import gradio as gr"
   ]
  },
  {
   "cell_type": "code",
   "execution_count": 2,
   "id": "747e8786-9da8-4342-b6c9-f5f69c2e22ae",
   "metadata": {},
   "outputs": [
    {
     "name": "stdout",
     "output_type": "stream",
     "text": [
      "OpenAI API Key exists and begins sk-proj-\n"
     ]
    }
   ],
   "source": [
    "# Initialization\n",
    "\n",
    "load_dotenv(override=True)\n",
    "\n",
    "openai_api_key = os.getenv('OPENAI_API_KEY')\n",
    "if openai_api_key:\n",
    "    print(f\"OpenAI API Key exists and begins {openai_api_key[:8]}\")\n",
    "else:\n",
    "    print(\"OpenAI API Key not set\")\n",
    "    \n",
    "MODEL = \"gpt-4o-mini\"\n",
    "openai = OpenAI()\n",
    "\n",
    "# As an alternative, if you'd like to use Ollama instead of OpenAI\n",
    "# Check that Ollama is running for you locally (see week1/day2 exercise) then uncomment these next 2 lines\n",
    "# MODEL = \"llama3.2\"\n",
    "# openai = OpenAI(base_url='http://localhost:11434/v1', api_key='ollama')\n"
   ]
  },
  {
   "cell_type": "code",
   "execution_count": 93,
   "id": "0a521d84-d07c-49ab-a0df-d6451499ed97",
   "metadata": {},
   "outputs": [],
   "source": [
    "system_message = \"You are a helpful assistant for an Airline called FlightAI. \"\n",
    "system_message += \"Give short, courteous answers, no more than 1 sentence. \"\n",
    "# system_message += \"Just return an existing city then get its' ticket price. \"\n",
    "system_message += \"Always be accurate. If you don't know the answer, say so.\""
   ]
  },
  {
   "cell_type": "code",
   "execution_count": 94,
   "id": "61a2a15d-b559-4844-b377-6bd5cb4949f6",
   "metadata": {},
   "outputs": [
    {
     "name": "stdout",
     "output_type": "stream",
     "text": [
      "* Running on local URL:  http://127.0.0.1:7880\n",
      "\n",
      "To create a public link, set `share=True` in `launch()`.\n"
     ]
    },
    {
     "data": {
      "text/html": [
       "<div><iframe src=\"http://127.0.0.1:7880/\" width=\"100%\" height=\"500\" allow=\"autoplay; camera; microphone; clipboard-read; clipboard-write;\" frameborder=\"0\" allowfullscreen></iframe></div>"
      ],
      "text/plain": [
       "<IPython.core.display.HTML object>"
      ]
     },
     "metadata": {},
     "output_type": "display_data"
    },
    {
     "data": {
      "text/plain": []
     },
     "execution_count": 94,
     "metadata": {},
     "output_type": "execute_result"
    }
   ],
   "source": [
    "# This function looks rather simpler than the one from my video, because we're taking advantage of the latest Gradio updates\n",
    "\n",
    "def chat(message, history):\n",
    "    messages = [{\"role\": \"system\", \"content\": system_message}] + history + [{\"role\": \"user\", \"content\": message}]\n",
    "    response = openai.chat.completions.create(model=MODEL, messages=messages)\n",
    "    return response.choices[0].message.content\n",
    "\n",
    "gr.ChatInterface(fn=chat, type=\"messages\").launch()"
   ]
  },
  {
   "cell_type": "markdown",
   "id": "36bedabf-a0a7-4985-ad8e-07ed6a55a3a4",
   "metadata": {},
   "source": [
    "## Tools\n",
    "\n",
    "Tools are an incredibly powerful feature provided by the frontier LLMs.\n",
    "\n",
    "With tools, you can write a function, and have the LLM call that function as part of its response.\n",
    "\n",
    "Sounds almost spooky.. we're giving it the power to run code on our machine?\n",
    "\n",
    "Well, kinda."
   ]
  },
  {
   "cell_type": "code",
   "execution_count": 95,
   "id": "0696acb1-0b05-4dc2-80d5-771be04f1fb2",
   "metadata": {},
   "outputs": [],
   "source": [
    "# Let's start by making a useful function\n",
    "\n",
    "ticket_prices = {\"london\": \"$799\", \"paris\": \"$899\", \"tokyo\": \"$1400\", \"berlin\": \"$499\", \"new york\": \"$1200\"}\n",
    "\n",
    "def get_ticket_price(destination_city):\n",
    "    print(f\"Tool get_ticket_price called for {destination_city}\")\n",
    "    city = destination_city.lower()\n",
    "    return ticket_prices.get(city, \"Unknown\")"
   ]
  },
  {
   "cell_type": "code",
   "execution_count": 96,
   "id": "18a6c59a-a695-41cb-8db6-afba2b15b68a",
   "metadata": {},
   "outputs": [
    {
     "name": "stdout",
     "output_type": "stream",
     "text": [
      "Tool get_ticket_price called for New York\n"
     ]
    },
    {
     "data": {
      "text/plain": [
       "'$1200'"
      ]
     },
     "execution_count": 96,
     "metadata": {},
     "output_type": "execute_result"
    }
   ],
   "source": [
    "get_ticket_price(\"New York\")"
   ]
  },
  {
   "cell_type": "code",
   "execution_count": 97,
   "id": "80ca4e09-6287-4d3f-997d-fa6afbcf6c85",
   "metadata": {},
   "outputs": [
    {
     "name": "stdout",
     "output_type": "stream",
     "text": [
      "Tool get_ticket_price called for Berlin\n"
     ]
    },
    {
     "data": {
      "text/plain": [
       "'$499'"
      ]
     },
     "execution_count": 97,
     "metadata": {},
     "output_type": "execute_result"
    }
   ],
   "source": [
    "get_ticket_price(\"Berlin\")"
   ]
  },
  {
   "cell_type": "markdown",
   "id": "a0316cf4-6252-4ed9-a8b3-845ba2ddaf6c",
   "metadata": {},
   "source": [
    "## LLM專用Dictionary格式，給 **Tool Function Calling（函式調用）**用"
   ]
  },
  {
   "cell_type": "code",
   "execution_count": 98,
   "id": "4afceded-7178-4c05-8fa6-9f2085e6a344",
   "metadata": {},
   "outputs": [],
   "source": [
    "# There's a particular dictionary structure that's required to describe our function:\n",
    "\n",
    "price_function = {\n",
    "    \"name\": \"get_ticket_price\",\n",
    "    \"description\": \"Get the price of a return ticket to the destination city. Call this whenever you need to know the ticket price, for example when a customer asks 'How much is a ticket to this city'\",\n",
    "    \"parameters\": {\n",
    "        \"type\": \"object\",\n",
    "        \"properties\": {\n",
    "            \"destination_city\": {\n",
    "                \"type\": \"string\",\n",
    "                \"description\": \"The city that the customer wants to travel to\",\n",
    "            },\n",
    "        },\n",
    "        \"required\": [\"destination_city\"],\n",
    "        \"additionalProperties\": False\n",
    "    }\n",
    "}"
   ]
  },
  {
   "cell_type": "code",
   "execution_count": 99,
   "id": "bdca8679-935f-4e7f-97e6-e71a4d4f228c",
   "metadata": {},
   "outputs": [],
   "source": [
    "# And this is included in a list of tools:\n",
    "\n",
    "tools = [{\"type\": \"function\", \"function\": price_function}]"
   ]
  },
  {
   "cell_type": "markdown",
   "id": "c3d3554f-b4e3-4ce7-af6f-68faa6dd2340",
   "metadata": {},
   "source": [
    "## Getting OpenAI to use our Tool\n",
    "\n",
    "There's some fiddly stuff to allow OpenAI \"to call our tool\"\n",
    "\n",
    "What we actually do is give the LLM the opportunity to inform us that it wants us to run the tool.\n",
    "\n",
    "Here's how the new chat function looks:"
   ]
  },
  {
   "cell_type": "code",
   "execution_count": 100,
   "id": "ce9b0744-9c78-408d-b9df-9f6fd9ed78cf",
   "metadata": {},
   "outputs": [],
   "source": [
    "def chat(message, history):\n",
    "    messages = [{\"role\": \"system\", \"content\": system_message}] + history + [{\"role\": \"user\", \"content\": message}]\n",
    "    response = openai.chat.completions.create(model=MODEL, messages=messages, tools=tools)\n",
    "\n",
    "    if response.choices[0].finish_reason == \"tool_calls\":\n",
    "        message = response.choices[0].message\n",
    "        tool_responses, cities = handle_tool_call(message)\n",
    "        \n",
    "        messages.append(message)  # 加入 LLM 發出的 tool_call\n",
    "        for tool_response in tool_responses:\n",
    "            print(f\"Tool Response: {tool_response}\")\n",
    "            messages.append(tool_response)  # 加入每個工具回應\n",
    "        \n",
    "        response = openai.chat.completions.create(model=MODEL, messages=messages)\n",
    "\n",
    "    return response.choices[0].message.content"
   ]
  },
  {
   "cell_type": "code",
   "execution_count": 101,
   "id": "b0992986-ea09-4912-a076-8e5603ee631f",
   "metadata": {},
   "outputs": [],
   "source": [
    "# We have to write that function handle_tool_call:\n",
    "\n",
    "def handle_tool_call(message):\n",
    "    responses = []\n",
    "    cities = []\n",
    "    \n",
    "    for tool_call in message.tool_calls:\n",
    "        arguments = json.loads(tool_call.function.arguments)\n",
    "        city = arguments.get('destination_city')\n",
    "        price = get_ticket_price(city)\n",
    "        \n",
    "        response = {\n",
    "            \"role\": \"tool\",\n",
    "            \"content\": json.dumps({\"destination_city\": city, \"price\": price}),\n",
    "            \"tool_call_id\": tool_call.id\n",
    "        }\n",
    "        responses.append(response)\n",
    "        cities.append(city)\n",
    "\n",
    "    print(f\"\\nDestination city is: {cities[-1]}\")\n",
    "    return responses, cities\n"
   ]
  },
  {
   "cell_type": "code",
   "execution_count": 102,
   "id": "f4be8a71-b19e-4c2f-80df-f59ff2661f14",
   "metadata": {},
   "outputs": [
    {
     "name": "stdout",
     "output_type": "stream",
     "text": [
      "* Running on local URL:  http://127.0.0.1:7881\n",
      "\n",
      "To create a public link, set `share=True` in `launch()`.\n"
     ]
    },
    {
     "data": {
      "text/html": [
       "<div><iframe src=\"http://127.0.0.1:7881/\" width=\"100%\" height=\"500\" allow=\"autoplay; camera; microphone; clipboard-read; clipboard-write;\" frameborder=\"0\" allowfullscreen></iframe></div>"
      ],
      "text/plain": [
       "<IPython.core.display.HTML object>"
      ]
     },
     "metadata": {},
     "output_type": "display_data"
    },
    {
     "data": {
      "text/plain": []
     },
     "execution_count": 102,
     "metadata": {},
     "output_type": "execute_result"
    },
    {
     "name": "stdout",
     "output_type": "stream",
     "text": [
      "Tool get_ticket_price called for Paris\n",
      "\n",
      "Destination city is: Paris\n",
      "Tool Response: {'role': 'tool', 'content': '{\"destination_city\": \"Paris\", \"price\": \"$899\"}', 'tool_call_id': 'call_eq1iD3MBxnA3lIYHeIs5T7n5'}\n",
      "Tool get_ticket_price called for New York\n",
      "\n",
      "Destination city is: New York\n",
      "Tool Response: {'role': 'tool', 'content': '{\"destination_city\": \"New York\", \"price\": \"$1200\"}', 'tool_call_id': 'call_krCxKMsXwRnR0fVZURXClaWq'}\n",
      "Tool get_ticket_price called for New York\n",
      "\n",
      "Destination city is: New York\n",
      "Tool Response: {'role': 'tool', 'content': '{\"destination_city\": \"New York\", \"price\": \"$1200\"}', 'tool_call_id': 'call_6DxbBUNsA5tq76OOehgucDAD'}\n"
     ]
    }
   ],
   "source": [
    "gr.ChatInterface(fn=chat, type=\"messages\").launch()"
   ]
  },
  {
   "cell_type": "markdown",
   "id": "05041223-ddae-4199-a3a1-68bb804b3af7",
   "metadata": {},
   "source": [
    "## AI 智慧版城市票價查詢助理"
   ]
  },
  {
   "cell_type": "code",
   "execution_count": 107,
   "id": "dc9e75fa-4e38-4075-b21f-93956d645cba",
   "metadata": {},
   "outputs": [
    {
     "name": "stdout",
     "output_type": "stream",
     "text": [
      "* Running on local URL:  http://127.0.0.1:7886\n",
      "\n",
      "To create a public link, set `share=True` in `launch()`.\n"
     ]
    },
    {
     "data": {
      "text/html": [
       "<div><iframe src=\"http://127.0.0.1:7886/\" width=\"100%\" height=\"500\" allow=\"autoplay; camera; microphone; clipboard-read; clipboard-write;\" frameborder=\"0\" allowfullscreen></iframe></div>"
      ],
      "text/plain": [
       "<IPython.core.display.HTML object>"
      ]
     },
     "metadata": {},
     "output_type": "display_data"
    },
    {
     "data": {
      "text/plain": []
     },
     "execution_count": 107,
     "metadata": {},
     "output_type": "execute_result"
    },
    {
     "name": "stdout",
     "output_type": "stream",
     "text": [
      "\n",
      "Destination text is: Beijing\n",
      "Tool get_ticket_price called for berlin\n",
      "\n",
      "Destination text is: Nanjing\n",
      "\n",
      "Destination text is: Nanjing\n",
      "\n",
      "Destination text is: Taipei\n",
      "Tool get_ticket_price called for taipei\n",
      "\n",
      "Destination text is: Tainan\n",
      "\n",
      "Destination text is: Taichung\n",
      "\n",
      "Destination text is: New Taipei City\n",
      "Tool get_ticket_price called for taipei\n",
      "\n",
      "Destination text is: New Taipei City\n",
      "Tool get_ticket_price called for taipei\n",
      "\n",
      "Destination text is: Taipei\n",
      "Tool get_ticket_price called for taipei\n",
      "\n",
      "Destination text is: Beijing\n",
      "Tool get_ticket_price called for berlin\n",
      "\n",
      "Destination text is: Tianjin\n",
      "\n",
      "Destination text is: Shanghai\n",
      "\n",
      "Destination text is: Taichung\n"
     ]
    }
   ],
   "source": [
    "import gradio as gr\n",
    "import json\n",
    "from difflib import get_close_matches\n",
    "\n",
    "import re\n",
    "\n",
    "def split_cities(destination_text):\n",
    "    # 正規化所有分隔符：半形空格、全形空格、逗號、中文逗號、頓號\n",
    "    text = re.sub(r\"[,\\u3000，、]\", \" \", destination_text)\n",
    "    # 再以空白分開\n",
    "    cities = [city.strip() for city in text.split() if city.strip()]\n",
    "    return cities\n",
    "\n",
    "# 票價表\n",
    "ticket_prices = {\n",
    "    \"london\": \"$799\",\n",
    "    \"paris\": \"$899\",\n",
    "    \"tokyo\": \"$1400\",\n",
    "    \"berlin\": \"$499\",\n",
    "    \"new york\": \"$1200\",\n",
    "    \"taipei\": \"$1100\",\n",
    "}\n",
    "\n",
    "# 工具：模糊比對找最接近的城市\n",
    "def find_closest_city(input_city):\n",
    "    cities = list(ticket_prices.keys())\n",
    "    matches = get_close_matches(input_city.lower(), cities, n=1, cutoff=0.6)\n",
    "    return matches[0] if matches else None\n",
    "\n",
    "# 工具：取得票價\n",
    "def get_ticket_price(destination_city):\n",
    "    print(f\"Tool get_ticket_price called for {destination_city}\")\n",
    "    city = destination_city.lower()\n",
    "    return ticket_prices.get(city, \"Unknown\")\n",
    "\n",
    "# 處理工具呼叫 (升級版)\n",
    "def handle_tool_call(message):\n",
    "    tool_responses = []\n",
    "\n",
    "    for tool_call in message.tool_calls:\n",
    "        arguments = json.loads(tool_call.function.arguments)\n",
    "        destination_text = arguments.get('destination_city')\n",
    "\n",
    "        print(f\"\\nDestination text is: {destination_text}\")\n",
    "\n",
    "        # ✨ 使用新的切分函式\n",
    "        cities = split_cities(destination_text)\n",
    "        \n",
    "        results = []\n",
    "        unknowns = []\n",
    "\n",
    "        for city in cities:\n",
    "            normalized_city = city.lower()\n",
    "            if normalized_city in ticket_prices:\n",
    "                price = get_ticket_price(normalized_city)\n",
    "                results.append({\"city\": city, \"price\": price})\n",
    "            else:\n",
    "                # 支援找不到城市、模糊比對最接近城市\n",
    "                closest = find_closest_city(normalized_city)\n",
    "                if closest:\n",
    "                    price = get_ticket_price(closest)\n",
    "                    results.append({\"city\": closest.title(), \"price\": price, \"note\": f\"(猜你想找的是 {closest.title()})\"})\n",
    "                else:\n",
    "                    unknowns.append(city)\n",
    "\n",
    "        content = {\"cities\": results, \"unknowns\": unknowns}\n",
    "\n",
    "        tool_response = {\n",
    "            \"role\": \"tool\",\n",
    "            \"content\": json.dumps(content, ensure_ascii=False),\n",
    "            \"tool_call_id\": tool_call.id\n",
    "        }\n",
    "\n",
    "        tool_responses.append(tool_response)\n",
    "\n",
    "    return tool_responses\n",
    "\n",
    "# 主聊天函式\n",
    "def chat(message, history):\n",
    "    messages = [{\"role\": \"system\", \"content\": system_message}] + history + [{\"role\": \"user\", \"content\": message}]\n",
    "    response = openai.chat.completions.create(model=MODEL, messages=messages, tools=tools)\n",
    "\n",
    "    if response.choices[0].finish_reason == \"tool_calls\":\n",
    "        message = response.choices[0].message\n",
    "        tool_responses = handle_tool_call(message)\n",
    "\n",
    "        messages.append(message)  # 加 Assistant tool_call 請求\n",
    "        messages.extend(tool_responses)  # 加所有 tool responses\n",
    "\n",
    "        response = openai.chat.completions.create(model=MODEL, messages=messages)\n",
    "\n",
    "    return response.choices[0].message.content\n",
    "\n",
    "# system message\n",
    "system_message = \"你是一個票價查詢助理。將輸入的城市轉成英文 再根據工具查到的資料，用清楚簡單的表格回覆使用者。若找不到城市，請友善提示。\"\n",
    "\n",
    "# 定義 tools\n",
    "price_function = {\n",
    "    \"name\": \"get_ticket_price\",\n",
    "    \"description\": \"Get the price of a return ticket to one or more destination cities.\",\n",
    "    \"parameters\": {\n",
    "        \"type\": \"object\",\n",
    "        \"properties\": {\n",
    "            \"destination_city\": {\n",
    "                \"type\": \"string\",\n",
    "                \"description\": \"Cities to search, separated by space or comma.\",\n",
    "            },\n",
    "        },\n",
    "        \"required\": [\"destination_city\"],\n",
    "        \"additionalProperties\": False\n",
    "    }\n",
    "}\n",
    "\n",
    "tools = [{\"type\": \"function\", \"function\": price_function}]\n",
    "\n",
    "# 啟動聊天介面\n",
    "gr.ChatInterface(fn=chat, type=\"messages\").launch()\n"
   ]
  },
  {
   "cell_type": "code",
   "execution_count": null,
   "id": "d5e507b3-e8b7-4c5c-8082-8236d54e950c",
   "metadata": {},
   "outputs": [],
   "source": []
  },
  {
   "cell_type": "code",
   "execution_count": null,
   "id": "cf05ee4b-b42e-4cb0-b0ff-245df1ef1448",
   "metadata": {},
   "outputs": [],
   "source": []
  }
 ],
 "metadata": {
  "kernelspec": {
   "display_name": "Python 3 (ipykernel)",
   "language": "python",
   "name": "python3"
  },
  "language_info": {
   "codemirror_mode": {
    "name": "ipython",
    "version": 3
   },
   "file_extension": ".py",
   "mimetype": "text/x-python",
   "name": "python",
   "nbconvert_exporter": "python",
   "pygments_lexer": "ipython3",
   "version": "3.13.1"
  }
 },
 "nbformat": 4,
 "nbformat_minor": 5
}
